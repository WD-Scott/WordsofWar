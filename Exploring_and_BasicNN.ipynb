{
 "cells": [
  {
   "cell_type": "markdown",
   "id": "33ddd195-93fb-44fd-b199-43eedf570d2c",
   "metadata": {},
   "source": [
    "## Sources:\n",
    "- [US Congressional Research Service](https://sgp.fas.org/crs/natsec/RS21405.pdf)\n",
    "- [UVA Miller Center](https://millercenter.org/the-presidency/presidential-speeches)\n",
    "- [Kaggle Dataset](https://www.kaggle.com/datasets/littleotter/united-states-presidential-speeches)"
   ]
  },
  {
   "cell_type": "code",
   "execution_count": 1,
   "id": "5ab435b1-3028-4ea1-8b21-ab0704c5ffde",
   "metadata": {
    "tags": []
   },
   "outputs": [
    {
     "name": "stderr",
     "output_type": "stream",
     "text": [
      "2024-02-21 15:22:13.140101: E external/local_xla/xla/stream_executor/cuda/cuda_dnn.cc:9261] Unable to register cuDNN factory: Attempting to register factory for plugin cuDNN when one has already been registered\n",
      "2024-02-21 15:22:13.140207: E external/local_xla/xla/stream_executor/cuda/cuda_fft.cc:607] Unable to register cuFFT factory: Attempting to register factory for plugin cuFFT when one has already been registered\n",
      "2024-02-21 15:22:13.141692: E external/local_xla/xla/stream_executor/cuda/cuda_blas.cc:1515] Unable to register cuBLAS factory: Attempting to register factory for plugin cuBLAS when one has already been registered\n",
      "2024-02-21 15:22:13.151902: I tensorflow/core/platform/cpu_feature_guard.cc:182] This TensorFlow binary is optimized to use available CPU instructions in performance-critical operations.\n",
      "To enable the following instructions: AVX2 FMA, in other operations, rebuild TensorFlow with the appropriate compiler flags.\n",
      "2024-02-21 15:22:15.137395: W tensorflow/compiler/tf2tensorrt/utils/py_utils.cc:38] TF-TRT Warning: Could not find TensorRT\n"
     ]
    }
   ],
   "source": [
    "import os\n",
    "import sys\n",
    "import string\n",
    "from collections import Counter\n",
    "\n",
    "import numpy as np\n",
    "import pandas as pd\n",
    "import nltk\n",
    "from nltk.corpus import stopwords\n",
    "from nltk.tokenize import word_tokenize\n",
    "import torch\n",
    "import sklearn\n",
    "import tensorflow as tf\n",
    "from tensorflow import keras\n",
    "from tensorflow.keras.models import Sequential\n",
    "from tensorflow.keras.layers import Dense, Dropout, LSTM, Embedding, SpatialDropout1D\n",
    "from tensorflow.keras.preprocessing.text import Tokenizer\n",
    "from tensorflow.keras.preprocessing.sequence import pad_sequences\n",
    "import matplotlib.pyplot as plt\n",
    "import transformers\n",
    "from transformers import BertTokenizer, BertModel\n",
    "from sklearn.utils import shuffle\n",
    "from sklearn.metrics import classification_report, log_loss, accuracy_score, roc_auc_score, f1_score\n",
    "from sklearn.model_selection import train_test_split, ShuffleSplit\n",
    "from xgboost import XGBClassifier\n",
    "from imblearn.over_sampling import SMOTE\n",
    "from tqdm import tqdm\n",
    "# Import custom class\n",
    "from BertSeqVect import BertSequenceVectorizer\n",
    "\n",
    "# Set wd\n",
    "os.chdir('/sfs/qumulo/qhome/bdr6qz/Documents/MSDS/DS6050')\n",
    "\n",
    "# Enable tqdm progress bars on pandas\n",
    "tqdm.pandas()"
   ]
  },
  {
   "cell_type": "code",
   "execution_count": 2,
   "id": "beccce43-ad64-47ab-b548-5c9aaa1a2256",
   "metadata": {
    "tags": []
   },
   "outputs": [],
   "source": [
    "df = pd.read_csv('Speeches_War_Clean.csv')"
   ]
  },
  {
   "cell_type": "markdown",
   "id": "77d4891f-d2d5-4a5f-b143-d43115f97879",
   "metadata": {},
   "source": [
    "## Possible issue with class imbalance?\n",
    "\n",
    "### I try and adjust this later via SMOTE"
   ]
  },
  {
   "cell_type": "code",
   "execution_count": 3,
   "id": "623ab1b8-5d3d-4810-9661-15eafccbe770",
   "metadata": {
    "tags": []
   },
   "outputs": [
    {
     "name": "stdout",
     "output_type": "stream",
     "text": [
      "War\n",
      "0    848\n",
      "1     73\n",
      "Name: count, dtype: int64\n"
     ]
    }
   ],
   "source": [
    "old_class_counts = df['War'].value_counts()\n",
    "print(old_class_counts)"
   ]
  },
  {
   "cell_type": "markdown",
   "id": "57432966-352e-4c13-ab9e-bcb84874dd30",
   "metadata": {},
   "source": [
    "___"
   ]
  },
  {
   "cell_type": "markdown",
   "id": "ad0a01b5-b3f4-42b0-8de6-d58e8d8cafba",
   "metadata": {},
   "source": [
    "### Vectorization: Applying the vectorize method from the `BertSequenceVectorizer` class to each speech to convert them into fixed-length vectors."
   ]
  },
  {
   "cell_type": "code",
   "execution_count": 4,
   "id": "3985eb30-c3f9-400a-b1e8-affe0b62a333",
   "metadata": {
    "tags": []
   },
   "outputs": [],
   "source": [
    "# Instantiate BERT tokenizer and model\n",
    "tokenizer = BertTokenizer.from_pretrained('bert-base-uncased')\n",
    "model = BertModel.from_pretrained('bert-base-uncased')"
   ]
  },
  {
   "cell_type": "code",
   "execution_count": 5,
   "id": "e4f68902-f5cc-4838-9d02-568bbd9f8f01",
   "metadata": {
    "tags": []
   },
   "outputs": [
    {
     "name": "stderr",
     "output_type": "stream",
     "text": [
      "  0%|          | 0/921 [00:00<?, ?it/s]Token indices sequence length is longer than the specified maximum sequence length for this model (2092 > 512). Running this sequence through the model will result in indexing errors\n",
      "100%|██████████| 921/921 [01:11<00:00, 12.90it/s]\n"
     ]
    }
   ],
   "source": [
    "# Apply BERT sequence vectorization to transcripts\n",
    "vectorizer = BertSequenceVectorizer()\n",
    "df['ts_feature'] = df['Transcript'].progress_apply(lambda x: vectorizer.vectorize(x))"
   ]
  },
  {
   "cell_type": "markdown",
   "id": "692db5fb-4502-4ed0-886a-3a3bcce11217",
   "metadata": {},
   "source": [
    "### Oversample via SMOTE:"
   ]
  },
  {
   "cell_type": "code",
   "execution_count": 6,
   "id": "d8acb477-1f63-40b3-9b68-eddd21dbc91f",
   "metadata": {
    "tags": []
   },
   "outputs": [],
   "source": [
    "# Extract features from 'ts_feature'\n",
    "X = np.stack(df['ts_feature'].values)"
   ]
  },
  {
   "cell_type": "code",
   "execution_count": 7,
   "id": "6dc98423-2190-40fb-b18e-c7de5bdd3803",
   "metadata": {
    "tags": []
   },
   "outputs": [],
   "source": [
    "# Apply SMOTE to fix class imbalance\n",
    "smote = SMOTE(random_state=28)\n",
    "X_resampled, y_resampled = smote.fit_resample(X, df['War'])"
   ]
  },
  {
   "cell_type": "code",
   "execution_count": 8,
   "id": "a096b157-ab89-4e7b-9d31-7fd28a8c21e7",
   "metadata": {
    "tags": []
   },
   "outputs": [
    {
     "data": {
      "image/png": "[encoded data removed]",
      "text/plain": [
       "<Figure size 600x300 with 2 Axes>"
      ]
     },
     "metadata": {},
     "output_type": "display_data"
    }
   ],
   "source": [
    "new_class_counts = y_resampled.value_counts()\n",
    "new_class_counts = new_class_counts.sort_index()\n",
    "\n",
    "# Visualize change in class imbalance\n",
    "plt.figure(figsize=(6, 3))\n",
    "\n",
    "plt.subplot(1, 2, 1)\n",
    "old_class_counts.plot(kind='bar', color=['blue', 'orange'])\n",
    "plt.title('Before SMOTE')\n",
    "plt.xlabel('Class')\n",
    "plt.ylabel('Count')\n",
    "plt.xticks(rotation=0)\n",
    "\n",
    "plt.subplot(1, 2, 2)\n",
    "new_class_counts.plot(kind='bar', color=['blue', 'orange'])\n",
    "plt.title('After SMOTE')\n",
    "plt.xlabel('Class')\n",
    "plt.ylabel('Count')\n",
    "plt.xticks(rotation=0)\n",
    "\n",
    "plt.tight_layout()\n",
    "plt.show()"
   ]
  },
  {
   "cell_type": "markdown",
   "id": "a86f771f-a425-4580-ade1-b027e3966b03",
   "metadata": {},
   "source": [
    "### Train/test split"
   ]
  },
  {
   "cell_type": "code",
   "execution_count": 9,
   "id": "e057c284-6d3b-4e6e-9128-d2e1e514746e",
   "metadata": {
    "tags": []
   },
   "outputs": [],
   "source": [
    "# Split the dataset into training and testing sets\n",
    "X_train, X_test, y_train, y_test = train_test_split(X_resampled, \n",
    "                                                    y_resampled, \n",
    "                                                    test_size=0.2, \n",
    "                                                    random_state=28)"
   ]
  },
  {
   "cell_type": "markdown",
   "id": "322dc6ae-822c-445b-99f2-ff5b9ac483fc",
   "metadata": {},
   "source": [
    "### Exploring a Basic NN"
   ]
  },
  {
   "cell_type": "code",
   "execution_count": 10,
   "id": "ffef8d96-5f6c-439c-8017-b45d0848db9f",
   "metadata": {
    "tags": []
   },
   "outputs": [
    {
     "name": "stderr",
     "output_type": "stream",
     "text": [
      "2024-02-21 15:24:14.665787: I tensorflow/core/common_runtime/gpu/gpu_device.cc:1929] Created device /job:localhost/replica:0/task:0/device:GPU:0 with 46262 MB memory:  -> device: 0, name: NVIDIA RTX A6000, pci bus id: 0000:81:00.0, compute capability: 8.6\n"
     ]
    }
   ],
   "source": [
    "# Define the neural network model\n",
    "model = Sequential([\n",
    "    Dense(128, \n",
    "          activation='relu', \n",
    "          input_shape=(768,),\n",
    "          kernel_initializer='he_normal', \n",
    "          kernel_regularizer=keras.regularizers.l2(0.01)),\n",
    "    Dropout(0.1),\n",
    "    Dense(64, \n",
    "          activation='relu',\n",
    "          kernel_initializer='he_normal',\n",
    "          kernel_regularizer=keras.regularizers.l2(0.01)),\n",
    "    Dropout(0.1),\n",
    "    Dense(1, \n",
    "          activation='sigmoid',\n",
    "          kernel_initializer='he_normal',\n",
    "          kernel_regularizer=keras.regularizers.l2(0.01))\n",
    "])"
   ]
  },
  {
   "cell_type": "code",
   "execution_count": 11,
   "id": "83afd34b-615f-4010-9579-d2c70331f7bf",
   "metadata": {
    "tags": []
   },
   "outputs": [],
   "source": [
    "#opt = tf.keras.optimizers.Adam(learning_rate=0.001, weight_decay=0.01)#, use_ema=True, ema_momentum=0.9)\n",
    "opt = tf.keras.optimizers.SGD(learning_rate=0.001, momentum=0.99, nesterov=True)\n",
    "#opt = tf.keras.optimizers.Adadelta(learning_rate=0.01, use_ema=True, ema_momentum=0.99)\n",
    "\n",
    "# Compile the model\n",
    "model.compile(optimizer=opt,\n",
    "              loss='binary_crossentropy',\n",
    "              metrics=['accuracy']) "
   ]
  },
  {
   "cell_type": "code",
   "execution_count": 12,
   "id": "825cdc74-4edf-4fcc-8ce0-3a798618dac8",
   "metadata": {
    "tags": []
   },
   "outputs": [
    {
     "name": "stdout",
     "output_type": "stream",
     "text": [
      "Epoch 1/15\n"
     ]
    },
    {
     "name": "stderr",
     "output_type": "stream",
     "text": [
      "2024-02-21 15:24:20.954798: I external/local_tsl/tsl/platform/default/subprocess.cc:304] Start cannot spawn child process: No such file or directory\n",
      "2024-02-21 15:24:22.693912: I external/local_xla/xla/service/service.cc:168] XLA service 0x7f6be0b0fbb0 initialized for platform CUDA (this does not guarantee that XLA will be used). Devices:\n",
      "2024-02-21 15:24:22.693990: I external/local_xla/xla/service/service.cc:176]   StreamExecutor device (0): NVIDIA RTX A6000, Compute Capability 8.6\n",
      "2024-02-21 15:24:22.710718: I external/local_xla/xla/stream_executor/cuda/cuda_dnn.cc:454] Loaded cuDNN version 8902\n",
      "WARNING: All log messages before absl::InitializeLog() is called are written to STDERR\n",
      "I0000 00:00:1708547062.791302  815793 device_compiler.h:186] Compiled cluster using XLA!  This line is logged at most once for the lifetime of the process.\n"
     ]
    },
    {
     "name": "stdout",
     "output_type": "stream",
     "text": [
      "68/68 [==============================] - 4s 7ms/step - loss: 4.4103 - accuracy: 0.5756 - val_loss: 4.1510 - val_accuracy: 0.6875\n",
      "Epoch 2/15\n",
      "68/68 [==============================] - 0s 3ms/step - loss: 3.8824 - accuracy: 0.6577 - val_loss: 3.5377 - val_accuracy: 0.6838\n",
      "Epoch 3/15\n",
      "68/68 [==============================] - 0s 3ms/step - loss: 3.2190 - accuracy: 0.7168 - val_loss: 2.8769 - val_accuracy: 0.7243\n",
      "Epoch 4/15\n",
      "68/68 [==============================] - 0s 3ms/step - loss: 2.5720 - accuracy: 0.7445 - val_loss: 2.2503 - val_accuracy: 0.8346\n",
      "Epoch 5/15\n",
      "68/68 [==============================] - 0s 3ms/step - loss: 1.9940 - accuracy: 0.8192 - val_loss: 1.8006 - val_accuracy: 0.8015\n",
      "Epoch 6/15\n",
      "68/68 [==============================] - 0s 3ms/step - loss: 1.5115 - accuracy: 0.8819 - val_loss: 1.3278 - val_accuracy: 0.9081\n",
      "Epoch 7/15\n",
      "68/68 [==============================] - 0s 3ms/step - loss: 1.1441 - accuracy: 0.9308 - val_loss: 1.0282 - val_accuracy: 0.9301\n",
      "Epoch 8/15\n",
      "68/68 [==============================] - 0s 3ms/step - loss: 0.8819 - accuracy: 0.9474 - val_loss: 0.8358 - val_accuracy: 0.9375\n",
      "Epoch 9/15\n",
      "68/68 [==============================] - 0s 3ms/step - loss: 0.6920 - accuracy: 0.9732 - val_loss: 0.7369 - val_accuracy: 0.9301\n",
      "Epoch 10/15\n",
      "68/68 [==============================] - 0s 4ms/step - loss: 0.5652 - accuracy: 0.9815 - val_loss: 0.6370 - val_accuracy: 0.9375\n",
      "Epoch 11/15\n",
      "68/68 [==============================] - 0s 3ms/step - loss: 0.4718 - accuracy: 0.9899 - val_loss: 0.5326 - val_accuracy: 0.9449\n",
      "Epoch 12/15\n",
      "68/68 [==============================] - 0s 3ms/step - loss: 0.4102 - accuracy: 0.9963 - val_loss: 0.4832 - val_accuracy: 0.9559\n",
      "Epoch 13/15\n",
      "68/68 [==============================] - 0s 3ms/step - loss: 0.3650 - accuracy: 0.9945 - val_loss: 0.4294 - val_accuracy: 0.9669\n",
      "Epoch 14/15\n",
      "68/68 [==============================] - 0s 3ms/step - loss: 0.3262 - accuracy: 0.9954 - val_loss: 0.3987 - val_accuracy: 0.9632\n",
      "Epoch 15/15\n",
      "68/68 [==============================] - 0s 3ms/step - loss: 0.3078 - accuracy: 0.9954 - val_loss: 0.3863 - val_accuracy: 0.9596\n"
     ]
    }
   ],
   "source": [
    "# Train the model\n",
    "history = model.fit(X_train, y_train,\n",
    "                    epochs=15,\n",
    "                    batch_size=16,\n",
    "                    validation_split=0.2)"
   ]
  },
  {
   "cell_type": "code",
   "execution_count": 13,
   "id": "329eb63b-e76b-4a4f-925b-9610901d6eda",
   "metadata": {
    "tags": []
   },
   "outputs": [
    {
     "data": {
      "image/png": "[encoded data removed]",
      "text/plain": [
       "<Figure size 800x500 with 2 Axes>"
      ]
     },
     "metadata": {},
     "output_type": "display_data"
    }
   ],
   "source": [
    "acc = history.history['accuracy']\n",
    "val_acc = history.history['val_accuracy']\n",
    "\n",
    "loss = history.history['loss']\n",
    "val_loss = history.history['val_loss']\n",
    "\n",
    "epochs_range = range(15)\n",
    "\n",
    "plt.figure(figsize=(8, 5))\n",
    "plt.subplot(1, 2, 1)\n",
    "plt.plot(epochs_range, acc, label='Training Accuracy')\n",
    "plt.plot(epochs_range, val_acc, label='Validation Accuracy')\n",
    "plt.legend(loc='lower right')\n",
    "plt.title('Training and Validation Accuracy')\n",
    "\n",
    "plt.subplot(1, 2, 2)\n",
    "plt.plot(epochs_range, loss, label='Training Loss')\n",
    "plt.plot(epochs_range, val_loss, label='Validation Loss')\n",
    "plt.legend(loc='upper right')\n",
    "plt.title('Training and Validation Loss')\n",
    "plt.show()"
   ]
  },
  {
   "cell_type": "code",
   "execution_count": 14,
   "id": "fc1cd006-3d29-45ff-9e78-3524cf5bfd3a",
   "metadata": {
    "tags": []
   },
   "outputs": [
    {
     "name": "stdout",
     "output_type": "stream",
     "text": [
      "11/11 [==============================] - 0s 1ms/step\n",
      "AUC-ROC Score: 0.9823717948717948\n",
      "F1-Score: 0.9633507853403142\n"
     ]
    }
   ],
   "source": [
    "# Predict probs for positive class\n",
    "y_pred_prob = model.predict(X_test)\n",
    "\n",
    "# AUC-ROC score\n",
    "auc_roc = roc_auc_score(y_test, y_pred_prob)\n",
    "\n",
    "# Convert probs to class labels\n",
    "y_pred_class = (y_pred_prob > 0.5).astype(int)\n",
    "\n",
    "# F1-score\n",
    "f1 = f1_score(y_test, y_pred_class)\n",
    "\n",
    "print(\"AUC-ROC Score:\", auc_roc)\n",
    "print(\"F1-Score:\", f1)"
   ]
  },
  {
   "cell_type": "markdown",
   "id": "20a3b4fb-6503-4cdc-9d43-aabc5ba441a3",
   "metadata": {},
   "source": [
    "---\n",
    "\n",
    "# Comments on model results:\n",
    "\n",
    "These results possibly indicate that there are discernible patterns in the text of US presidential speeches that correlate with the US entering a major war  within one year of the speech. This (I think) suggests that Presidents leverage certain language or rhetorical cues in their speeches to prepare the nation for war."
   ]
  },
  {
   "cell_type": "code",
   "execution_count": null,
   "id": "17177bfc-f737-41de-a5d6-cfae914ef5ad",
   "metadata": {},
   "outputs": [],
   "source": []
  }
 ],
 "metadata": {
  "kernelspec": {
   "display_name": "Python 3 (ipykernel)",
   "language": "python",
   "name": "python3"
  },
  "language_info": {
   "codemirror_mode": {
    "name": "ipython",
    "version": 3
   },
   "file_extension": ".py",
   "mimetype": "text/x-python",
   "name": "python",
   "nbconvert_exporter": "python",
   "pygments_lexer": "ipython3",
   "version": "3.11.0"
  }
 },
 "nbformat": 4,
 "nbformat_minor": 5
}

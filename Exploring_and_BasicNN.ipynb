{
 "cells": [
  {
   "cell_type": "markdown",
   "id": "33ddd195-93fb-44fd-b199-43eedf570d2c",
   "metadata": {},
   "source": [
    "## Sources:\n",
    "- [US Congressional Research Service](https://sgp.fas.org/crs/natsec/RS21405.pdf)\n",
    "- [UVA Miller Center](https://millercenter.org/the-presidency/presidential-speeches)\n",
    "- [Kaggle Dataset](https://www.kaggle.com/datasets/littleotter/united-states-presidential-speeches)"
   ]
  },
  {
   "cell_type": "code",
   "execution_count": 1,
   "id": "5ab435b1-3028-4ea1-8b21-ab0704c5ffde",
   "metadata": {
    "tags": []
   },
   "outputs": [],
   "source": [
    "from silence_tensorflow import silence_tensorflow\n",
    "silence_tensorflow()\n",
    "\n",
    "import os\n",
    "import sys\n",
    "import string\n",
    "from collections import Counter\n",
    "\n",
    "import numpy as np\n",
    "import pandas as pd\n",
    "import nltk\n",
    "from nltk.corpus import stopwords\n",
    "from nltk.tokenize import word_tokenize\n",
    "import torch\n",
    "import sklearn\n",
    "import tensorflow as tf\n",
    "from tensorflow import keras\n",
    "from tensorflow.keras.models import Sequential\n",
    "from tensorflow.keras.layers import Dense, Dropout, LSTM, Embedding, SpatialDropout1D\n",
    "from tensorflow.keras.preprocessing.text import Tokenizer\n",
    "from tensorflow.keras.preprocessing.sequence import pad_sequences\n",
    "import matplotlib.pyplot as plt\n",
    "import transformers\n",
    "from transformers import BertTokenizer, BertModel\n",
    "from sklearn.utils import shuffle\n",
    "from sklearn.metrics import classification_report, log_loss, accuracy_score, roc_auc_score, f1_score\n",
    "from sklearn.model_selection import train_test_split, ShuffleSplit\n",
    "from xgboost import XGBClassifier\n",
    "from imblearn.over_sampling import SMOTE\n",
    "from tqdm import tqdm\n",
    "# Import custom class\n",
    "from BertSeqVect import BertSequenceVectorizer\n",
    "\n",
    "# Set wd\n",
    "os.chdir('/Users/wyattscott/Documents/DS6050/Project')\n",
    "\n",
    "# Enable tqdm progress bars on pandas\n",
    "tqdm.pandas()"
   ]
  },
  {
   "cell_type": "code",
   "execution_count": 40,
   "id": "beccce43-ad64-47ab-b548-5c9aaa1a2256",
   "metadata": {
    "tags": []
   },
   "outputs": [
    {
     "data": {
      "text/html": [
       "<div>\n",
       "<style scoped>\n",
       "    .dataframe tbody tr th:only-of-type {\n",
       "        vertical-align: middle;\n",
       "    }\n",
       "\n",
       "    .dataframe tbody tr th {\n",
       "        vertical-align: top;\n",
       "    }\n",
       "\n",
       "    .dataframe thead th {\n",
       "        text-align: right;\n",
       "    }\n",
       "</style>\n",
       "<table border=\"1\" class=\"dataframe\">\n",
       "  <thead>\n",
       "    <tr style=\"text-align: right;\">\n",
       "      <th></th>\n",
       "      <th>Date</th>\n",
       "      <th>President</th>\n",
       "      <th>Party</th>\n",
       "      <th>Transcript</th>\n",
       "      <th>War</th>\n",
       "    </tr>\n",
       "  </thead>\n",
       "  <tbody>\n",
       "    <tr>\n",
       "      <th>0</th>\n",
       "      <td>1815-01-30</td>\n",
       "      <td>James Madison</td>\n",
       "      <td>Democratic-Republican</td>\n",
       "      <td>To the Senate of the United States: Having bes...</td>\n",
       "      <td>0</td>\n",
       "    </tr>\n",
       "    <tr>\n",
       "      <th>1</th>\n",
       "      <td>1815-02-18</td>\n",
       "      <td>James Madison</td>\n",
       "      <td>Democratic-Republican</td>\n",
       "      <td>To the Senate and House of Representatives of ...</td>\n",
       "      <td>0</td>\n",
       "    </tr>\n",
       "  </tbody>\n",
       "</table>\n",
       "</div>"
      ],
      "text/plain": [
       "         Date      President                  Party  \\\n",
       "0  1815-01-30  James Madison  Democratic-Republican   \n",
       "1  1815-02-18  James Madison  Democratic-Republican   \n",
       "\n",
       "                                          Transcript  War  \n",
       "0  To the Senate of the United States: Having bes...    0  \n",
       "1  To the Senate and House of Representatives of ...    0  "
      ]
     },
     "execution_count": 40,
     "metadata": {},
     "output_type": "execute_result"
    }
   ],
   "source": [
    "df = pd.read_csv('Speeches_War_Clean.csv')\n",
    "df.head(2)"
   ]
  },
  {
   "cell_type": "markdown",
   "id": "77d4891f-d2d5-4a5f-b143-d43115f97879",
   "metadata": {},
   "source": [
    "## Class imbalance:\n",
    "\n",
    "### We adjust this later via SMOTE"
   ]
  },
  {
   "cell_type": "code",
   "execution_count": 10,
   "id": "623ab1b8-5d3d-4810-9661-15eafccbe770",
   "metadata": {
    "tags": []
   },
   "outputs": [
    {
     "name": "stdout",
     "output_type": "stream",
     "text": [
      "War\n",
      "0    848\n",
      "1     73\n",
      "Name: count, dtype: int64\n"
     ]
    }
   ],
   "source": [
    "old_class_counts = df['War'].value_counts()\n",
    "print(old_class_counts)"
   ]
  },
  {
   "cell_type": "markdown",
   "id": "57432966-352e-4c13-ab9e-bcb84874dd30",
   "metadata": {},
   "source": [
    "___"
   ]
  },
  {
   "cell_type": "markdown",
   "id": "ad0a01b5-b3f4-42b0-8de6-d58e8d8cafba",
   "metadata": {},
   "source": [
    "### Vectorization: Applying the vectorize method from the `BertSequenceVectorizer` class to each speech to convert them into fixed-length vectors.\n",
    "\n",
    "Instantiate BERT tokenizer and model:"
   ]
  },
  {
   "cell_type": "code",
   "execution_count": 11,
   "id": "3985eb30-c3f9-400a-b1e8-affe0b62a333",
   "metadata": {
    "tags": []
   },
   "outputs": [],
   "source": [
    "# Instantiate BERT tokenizer and model\n",
    "tokenizer = BertTokenizer.from_pretrained('bert-base-uncased')\n",
    "model = BertModel.from_pretrained('bert-base-uncased')"
   ]
  },
  {
   "cell_type": "markdown",
   "id": "200ababd-59e0-4822-9085-411ec1cb7fe3",
   "metadata": {},
   "source": [
    "Process each transcript using the BERT model to obtain a fixed-length vector representation by using the `BertSequenceVectorizer` class (see BertSeqVect.py). \n",
    "\n",
    "The resulting vectors are stored in `df` in the `ts_feature` column."
   ]
  },
  {
   "cell_type": "code",
   "execution_count": 12,
   "id": "e4f68902-f5cc-4838-9d02-568bbd9f8f01",
   "metadata": {
    "tags": []
   },
   "outputs": [
    {
     "name": "stderr",
     "output_type": "stream",
     "text": [
      "  0%|                                                   | 0/921 [00:00<?, ?it/s]Token indices sequence length is longer than the specified maximum sequence length for this model (1480 > 512). Running this sequence through the model will result in indexing errors\n",
      "100%|█████████████████████████████████████████| 921/921 [01:03<00:00, 14.54it/s]\n"
     ]
    }
   ],
   "source": [
    "# Apply BERT sequence vectorization to transcripts\n",
    "vectorizer = BertSequenceVectorizer()\n",
    "df['ts_feature'] = df['Transcript'].progress_apply(lambda x: vectorizer.vectorize(x))"
   ]
  },
  {
   "cell_type": "markdown",
   "id": "692db5fb-4502-4ed0-886a-3a3bcce11217",
   "metadata": {},
   "source": [
    "### Oversample via SMOTE:\n",
    "\n",
    "Apply SMOTE (Synthetic Minority Over-sampling Technique) to address class imbalance. This effectively oversamples the minority class (`War=1`, in this case) to balance the class distribution. \n",
    "\n",
    "Below we generate the resampled features, `X_resampled`, and corresponding labels, `y_resampled`."
   ]
  },
  {
   "cell_type": "code",
   "execution_count": 13,
   "id": "d8acb477-1f63-40b3-9b68-eddd21dbc91f",
   "metadata": {
    "tags": []
   },
   "outputs": [],
   "source": [
    "# Extract features from 'ts_feature'\n",
    "X = np.stack(df['ts_feature'].values)"
   ]
  },
  {
   "cell_type": "code",
   "execution_count": 14,
   "id": "6dc98423-2190-40fb-b18e-c7de5bdd3803",
   "metadata": {
    "tags": []
   },
   "outputs": [],
   "source": [
    "# Apply SMOTE to fix class imbalance\n",
    "smote = SMOTE(random_state=28)\n",
    "X_resampled, y_resampled = smote.fit_resample(X, df['War'])"
   ]
  },
  {
   "cell_type": "code",
   "execution_count": 15,
   "id": "a096b157-ab89-4e7b-9d31-7fd28a8c21e7",
   "metadata": {
    "tags": []
   },
   "outputs": [
    {
     "data": {
      "image/png": "[encoded data removed]",
      "text/plain": [
       "<Figure size 600x300 with 2 Axes>"
      ]
     },
     "metadata": {},
     "output_type": "display_data"
    }
   ],
   "source": [
    "new_class_counts = y_resampled.value_counts()\n",
    "new_class_counts = new_class_counts.sort_index()\n",
    "\n",
    "# Visualize change in class imbalance\n",
    "plt.figure(figsize=(6, 3))\n",
    "\n",
    "plt.subplot(1, 2, 1)\n",
    "old_class_counts.plot(kind='bar', color=['blue', 'orange'])\n",
    "plt.title('Before SMOTE')\n",
    "plt.xlabel('Class')\n",
    "plt.ylabel('Count')\n",
    "plt.xticks(rotation=0)\n",
    "\n",
    "plt.subplot(1, 2, 2)\n",
    "new_class_counts.plot(kind='bar', color=['blue', 'orange'])\n",
    "plt.title('After SMOTE')\n",
    "plt.xlabel('Class')\n",
    "plt.ylabel('Count')\n",
    "plt.xticks(rotation=0)\n",
    "\n",
    "plt.tight_layout()\n",
    "plt.show()"
   ]
  },
  {
   "cell_type": "markdown",
   "id": "a86f771f-a425-4580-ade1-b027e3966b03",
   "metadata": {},
   "source": [
    "### Train/test split"
   ]
  },
  {
   "cell_type": "code",
   "execution_count": 16,
   "id": "e057c284-6d3b-4e6e-9128-d2e1e514746e",
   "metadata": {
    "tags": []
   },
   "outputs": [],
   "source": [
    "# Split the dataset into training and testing sets\n",
    "X_train, X_test, y_train, y_test = train_test_split(X_resampled, \n",
    "                                                    y_resampled, \n",
    "                                                    test_size=0.2, \n",
    "                                                    random_state=28)"
   ]
  },
  {
   "cell_type": "markdown",
   "id": "322dc6ae-822c-445b-99f2-ff5b9ac483fc",
   "metadata": {},
   "source": [
    "### Exploring a Basic NN"
   ]
  },
  {
   "cell_type": "code",
   "execution_count": 34,
   "id": "ffef8d96-5f6c-439c-8017-b45d0848db9f",
   "metadata": {
    "tags": []
   },
   "outputs": [],
   "source": [
    "# Define the neural network model\n",
    "model = Sequential([\n",
    "    Dense(128, \n",
    "          activation='relu', \n",
    "          input_shape=(768,),\n",
    "          kernel_initializer='he_normal', \n",
    "          kernel_regularizer=keras.regularizers.l2(0.01)),\n",
    "    Dropout(0.1),\n",
    "    Dense(64, \n",
    "          activation='relu',\n",
    "          kernel_initializer='he_normal',\n",
    "          kernel_regularizer=keras.regularizers.l2(0.01)),\n",
    "    Dropout(0.1),\n",
    "    Dense(1, \n",
    "          activation='sigmoid',\n",
    "          kernel_initializer='he_normal',\n",
    "          kernel_regularizer=keras.regularizers.l2(0.01))\n",
    "])"
   ]
  },
  {
   "cell_type": "code",
   "execution_count": 35,
   "id": "83afd34b-615f-4010-9579-d2c70331f7bf",
   "metadata": {
    "tags": []
   },
   "outputs": [],
   "source": [
    "#opt = tf.keras.optimizers.Adam(learning_rate=0.001, weight_decay=0.01)#, use_ema=True, ema_momentum=0.9)\n",
    "opt = tf.keras.optimizers.legacy.SGD(learning_rate=0.001, momentum=0.99, nesterov=True)\n",
    "#opt = tf.keras.optimizers.Adadelta(learning_rate=0.01, use_ema=True, ema_momentum=0.99)\n",
    "\n",
    "# Compile the model\n",
    "model.compile(optimizer=opt,\n",
    "              loss='binary_crossentropy',\n",
    "              metrics=['accuracy']) "
   ]
  },
  {
   "cell_type": "code",
   "execution_count": 36,
   "id": "825cdc74-4edf-4fcc-8ce0-3a798618dac8",
   "metadata": {
    "tags": []
   },
   "outputs": [
    {
     "name": "stdout",
     "output_type": "stream",
     "text": [
      "Epoch 1/15\n",
      "68/68 [==============================] - 1s 17ms/step - loss: 4.3979 - accuracy: 0.6153 - val_loss: 4.1624 - val_accuracy: 0.6618\n",
      "Epoch 2/15\n",
      "68/68 [==============================] - 1s 14ms/step - loss: 3.8838 - accuracy: 0.6642 - val_loss: 3.5307 - val_accuracy: 0.6985\n",
      "Epoch 3/15\n",
      "68/68 [==============================] - 1s 15ms/step - loss: 3.1815 - accuracy: 0.7509 - val_loss: 2.8846 - val_accuracy: 0.7279\n",
      "Epoch 4/15\n",
      "68/68 [==============================] - 1s 14ms/step - loss: 2.5354 - accuracy: 0.7851 - val_loss: 2.2555 - val_accuracy: 0.8125\n",
      "Epoch 5/15\n",
      "68/68 [==============================] - 1s 14ms/step - loss: 1.9549 - accuracy: 0.8515 - val_loss: 1.7778 - val_accuracy: 0.8015\n",
      "Epoch 6/15\n",
      "68/68 [==============================] - 1s 14ms/step - loss: 1.5031 - accuracy: 0.8828 - val_loss: 1.3630 - val_accuracy: 0.8824\n",
      "Epoch 7/15\n",
      "68/68 [==============================] - 1s 14ms/step - loss: 1.1423 - accuracy: 0.9207 - val_loss: 1.0674 - val_accuracy: 0.9154\n",
      "Epoch 8/15\n",
      "68/68 [==============================] - 1s 14ms/step - loss: 0.8770 - accuracy: 0.9520 - val_loss: 0.8826 - val_accuracy: 0.8971\n",
      "Epoch 9/15\n",
      "68/68 [==============================] - 1s 14ms/step - loss: 0.6880 - accuracy: 0.9723 - val_loss: 0.7476 - val_accuracy: 0.9375\n",
      "Epoch 10/15\n",
      "68/68 [==============================] - 1s 14ms/step - loss: 0.5620 - accuracy: 0.9797 - val_loss: 0.6342 - val_accuracy: 0.9412\n",
      "Epoch 11/15\n",
      "68/68 [==============================] - 1s 13ms/step - loss: 0.4662 - accuracy: 0.9843 - val_loss: 0.5502 - val_accuracy: 0.9596\n",
      "Epoch 12/15\n",
      "68/68 [==============================] - 1s 13ms/step - loss: 0.4096 - accuracy: 0.9862 - val_loss: 0.5497 - val_accuracy: 0.9191\n",
      "Epoch 13/15\n",
      "68/68 [==============================] - 1s 13ms/step - loss: 0.3601 - accuracy: 0.9899 - val_loss: 0.4774 - val_accuracy: 0.9522\n",
      "Epoch 14/15\n",
      "68/68 [==============================] - 1s 16ms/step - loss: 0.3335 - accuracy: 0.9871 - val_loss: 0.4471 - val_accuracy: 0.9449\n",
      "Epoch 15/15\n",
      "68/68 [==============================] - 1s 14ms/step - loss: 0.3063 - accuracy: 0.9935 - val_loss: 0.4753 - val_accuracy: 0.9191\n"
     ]
    }
   ],
   "source": [
    "# Train the model\n",
    "history = model.fit(X_train, y_train,\n",
    "                    epochs=15,\n",
    "                    batch_size=16,\n",
    "                    validation_split=0.2)"
   ]
  },
  {
   "cell_type": "code",
   "execution_count": 38,
   "id": "329eb63b-e76b-4a4f-925b-9610901d6eda",
   "metadata": {
    "tags": []
   },
   "outputs": [
    {
     "data": {
      "image/png": "[encoded data removed]",
      "text/plain": [
       "<Figure size 800x500 with 2 Axes>"
      ]
     },
     "metadata": {},
     "output_type": "display_data"
    }
   ],
   "source": [
    "acc = history.history['accuracy']\n",
    "val_acc = history.history['val_accuracy']\n",
    "\n",
    "loss = history.history['loss']\n",
    "val_loss = history.history['val_loss']\n",
    "\n",
    "epochs_range = range(15)\n",
    "\n",
    "plt.figure(figsize=(8, 5))\n",
    "plt.subplot(1, 2, 1)\n",
    "plt.plot(epochs_range, acc, label='Training Accuracy')\n",
    "plt.plot(epochs_range, val_acc, label='Validation Accuracy')\n",
    "plt.legend(loc='lower right')\n",
    "plt.title('Training and Validation Accuracy')\n",
    "\n",
    "plt.subplot(1, 2, 2)\n",
    "plt.plot(epochs_range, loss, label='Training Loss')\n",
    "plt.plot(epochs_range, val_loss, label='Validation Loss')\n",
    "plt.legend(loc='upper right')\n",
    "plt.title('Training and Validation Loss')\n",
    "plt.show()"
   ]
  },
  {
   "cell_type": "code",
   "execution_count": 39,
   "id": "fc1cd006-3d29-45ff-9e78-3524cf5bfd3a",
   "metadata": {
    "tags": []
   },
   "outputs": [
    {
     "name": "stdout",
     "output_type": "stream",
     "text": [
      "11/11 [==============================] - 0s 3ms/step\n",
      "AUC-ROC Score: 0.9866114897760467\n",
      "F1-Score: 0.9604221635883905\n"
     ]
    }
   ],
   "source": [
    "# Predict probs for positive class\n",
    "y_pred_prob = model.predict(X_test)\n",
    "\n",
    "# AUC-ROC score\n",
    "auc_roc = roc_auc_score(y_test, y_pred_prob)\n",
    "\n",
    "# Convert probs to class labels\n",
    "y_pred_class = (y_pred_prob > 0.5).astype(int)\n",
    "\n",
    "# F1-score\n",
    "f1 = f1_score(y_test, y_pred_class)\n",
    "\n",
    "print(\"AUC-ROC Score:\", auc_roc)\n",
    "print(\"F1-Score:\", f1)"
   ]
  },
  {
   "cell_type": "markdown",
   "id": "20a3b4fb-6503-4cdc-9d43-aabc5ba441a3",
   "metadata": {},
   "source": [
    "---\n",
    "\n",
    "# Comments on model results:\n",
    "\n",
    "These results possibly indicate that there are discernible patterns in the text of US presidential speeches that correlate with the US entering a major war  within one year of the speech. This (I think) suggests that Presidents leverage certain language or rhetorical cues in their speeches to prepare the nation for war."
   ]
  },
  {
   "cell_type": "code",
   "execution_count": null,
   "id": "17177bfc-f737-41de-a5d6-cfae914ef5ad",
   "metadata": {},
   "outputs": [],
   "source": []
  }
 ],
 "metadata": {
  "kernelspec": {
   "display_name": "Python 3 (ipykernel)",
   "language": "python",
   "name": "python3"
  },
  "language_info": {
   "codemirror_mode": {
    "name": "ipython",
    "version": 3
   },
   "file_extension": ".py",
   "mimetype": "text/x-python",
   "name": "python",
   "nbconvert_exporter": "python",
   "pygments_lexer": "ipython3",
   "version": "3.11.0"
  }
 },
 "nbformat": 4,
 "nbformat_minor": 5
}

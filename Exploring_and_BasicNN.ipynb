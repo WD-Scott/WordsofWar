{
 "cells": [
  {
   "cell_type": "code",
   "execution_count": 1,
   "id": "5ab435b1-3028-4ea1-8b21-ab0704c5ffde",
   "metadata": {
    "tags": []
   },
   "outputs": [],
   "source": [
    "from silence_tensorflow import silence_tensorflow\n",
    "silence_tensorflow()\n",
    "\n",
    "import os\n",
    "import sys\n",
    "import string\n",
    "from collections import Counter\n",
    "\n",
    "import numpy as np\n",
    "import pandas as pd\n",
    "import nltk\n",
    "from nltk.corpus import stopwords\n",
    "from nltk.tokenize import word_tokenize\n",
    "import torch\n",
    "import sklearn\n",
    "import tensorflow as tf\n",
    "from tensorflow import keras\n",
    "from tensorflow.keras.models import Sequential\n",
    "from tensorflow.keras.layers import Dense, Dropout, LSTM, Embedding, SpatialDropout1D\n",
    "from tensorflow.keras.preprocessing.text import Tokenizer\n",
    "from tensorflow.keras.preprocessing.sequence import pad_sequences\n",
    "import matplotlib.pyplot as plt\n",
    "import transformers\n",
    "from transformers import BertTokenizer, BertModel\n",
    "from sklearn.utils import shuffle\n",
    "from sklearn.metrics import classification_report, log_loss, accuracy_score, roc_auc_score, f1_score\n",
    "from sklearn.model_selection import train_test_split, ShuffleSplit\n",
    "import xgboost\n",
    "from xgboost import XGBClassifier\n",
    "import imblearn\n",
    "from imblearn.over_sampling import SMOTE\n",
    "from imblearn.combine import SMOTEENN\n",
    "from tqdm import tqdm\n",
    "# Import custom class\n",
    "from BertSeqVect import BertSequenceVectorizer\n",
    "\n",
    "# Set wd\n",
    "os.chdir('/sfs/qumulo/qhome/bdr6qz/Documents/MSDS/DS6050')\n",
    "\n",
    "# Enable tqdm progress bars on pandas\n",
    "tqdm.pandas()"
   ]
  },
  {
   "cell_type": "code",
   "execution_count": 2,
   "id": "c5549b9d-0e2f-4547-a0bc-065f5828e3ee",
   "metadata": {},
   "outputs": [],
   "source": [
    "# # Print versions\n",
    "# print(\"Python version:\", sys.version)\n",
    "# print(\"numpy:\", np.__version__)\n",
    "# print(\"pandas:\", pd.__version__)\n",
    "# print(\"nltk:\", nltk.__version__)\n",
    "# print(\"torch:\", torch.__version__)\n",
    "# print(\"sklearn:\", sklearn.__version__)\n",
    "# print(\"tensorflow:\", tf.__version__)\n",
    "# print(\"transformers:\", transformers.__version__)\n",
    "# print(\"xgboost:\", xgboost.__version__)\n",
    "# print(\"imblearn:\", imblearn.__version__)"
   ]
  },
  {
   "cell_type": "code",
   "execution_count": 2,
   "id": "beccce43-ad64-47ab-b548-5c9aaa1a2256",
   "metadata": {
    "tags": []
   },
   "outputs": [],
   "source": [
    "df = pd.read_csv('Speeches_War_Clean.csv')"
   ]
  },
  {
   "cell_type": "markdown",
   "id": "77d4891f-d2d5-4a5f-b143-d43115f97879",
   "metadata": {},
   "source": [
    "## Class imbalance:\n",
    "\n",
    "### We adjust this later via SMOTE"
   ]
  },
  {
   "cell_type": "code",
   "execution_count": 3,
   "id": "623ab1b8-5d3d-4810-9661-15eafccbe770",
   "metadata": {
    "tags": []
   },
   "outputs": [
    {
     "name": "stdout",
     "output_type": "stream",
     "text": [
      "War\n",
      "0    887\n",
      "1     81\n",
      "Name: count, dtype: int64\n"
     ]
    }
   ],
   "source": [
    "old_class_counts = df['War'].value_counts()\n",
    "print(old_class_counts)"
   ]
  },
  {
   "cell_type": "markdown",
   "id": "57432966-352e-4c13-ab9e-bcb84874dd30",
   "metadata": {},
   "source": [
    "___"
   ]
  },
  {
   "cell_type": "markdown",
   "id": "ad0a01b5-b3f4-42b0-8de6-d58e8d8cafba",
   "metadata": {},
   "source": [
    "### Vectorization: Applying the vectorize method from the `BertSequenceVectorizer` class to each speech to convert them into fixed-length vectors.\n",
    "\n",
    "Instantiate BERT tokenizer and model:"
   ]
  },
  {
   "cell_type": "code",
   "execution_count": 4,
   "id": "3985eb30-c3f9-400a-b1e8-affe0b62a333",
   "metadata": {
    "tags": []
   },
   "outputs": [],
   "source": [
    "# Instantiate BERT tokenizer and model\n",
    "tokenizer = BertTokenizer.from_pretrained('bert-base-uncased')\n",
    "model = BertModel.from_pretrained('bert-base-uncased')"
   ]
  },
  {
   "cell_type": "markdown",
   "id": "200ababd-59e0-4822-9085-411ec1cb7fe3",
   "metadata": {},
   "source": [
    "Process each transcript using the BERT-large-uncased model to obtain a fixed-length vector representation by using the `BertSequenceVectorizer` class (see BertSeqVect.py). \n",
    "\n",
    "The resulting vectors are stored in `df` in the `ts_feature` column."
   ]
  },
  {
   "cell_type": "code",
   "execution_count": 5,
   "id": "e4f68902-f5cc-4838-9d02-568bbd9f8f01",
   "metadata": {
    "tags": []
   },
   "outputs": [
    {
     "name": "stderr",
     "output_type": "stream",
     "text": [
      "100%|██████████| 968/968 [00:53<00:00, 18.20it/s]\n"
     ]
    }
   ],
   "source": [
    "vectorizer = BertSequenceVectorizer()\n",
    "\n",
    "# Apply BERT sequence vectorization to transcripts\n",
    "df['ts_feature'] = df['Transcript'].progress_apply(lambda x: vectorizer.vectorize(x))"
   ]
  },
  {
   "cell_type": "markdown",
   "id": "692db5fb-4502-4ed0-886a-3a3bcce11217",
   "metadata": {},
   "source": [
    "### Oversample via SMOTE:\n",
    "\n",
    "Apply SMOTE (Synthetic Minority Over-sampling Technique) to address class imbalance. This effectively oversamples the minority class (`War=1`, in this case) to balance the class distribution. \n",
    "\n",
    "Below we generate the resampled features, `X_resampled`, and corresponding labels, `y_resampled`."
   ]
  },
  {
   "cell_type": "code",
   "execution_count": 6,
   "id": "524c9e97-9364-40c3-a9fe-be72d19d7c91",
   "metadata": {
    "tags": []
   },
   "outputs": [
    {
     "name": "stdout",
     "output_type": "stream",
     "text": [
      "(768,)\n"
     ]
    }
   ],
   "source": [
    "print((df['ts_feature'][0]).shape)"
   ]
  },
  {
   "cell_type": "code",
   "execution_count": 7,
   "id": "dd9c8cd5-7bff-4a8b-accd-d80918100e87",
   "metadata": {
    "tags": []
   },
   "outputs": [],
   "source": [
    "# Function to check if all arrays in a column have the same shape\n",
    "def check_same_shape(arrays):\n",
    "    shapes = [np.array(arr).shape for arr in arrays]\n",
    "    return len(set(shapes)) == 1"
   ]
  },
  {
   "cell_type": "code",
   "execution_count": 8,
   "id": "1f28a860-c35a-4486-973d-2e6910595793",
   "metadata": {
    "tags": []
   },
   "outputs": [
    {
     "name": "stdout",
     "output_type": "stream",
     "text": [
      "All arrays have the same shape: True\n"
     ]
    }
   ],
   "source": [
    "# Check if all arrays in the 'arrays' column have the same shape\n",
    "result = check_same_shape(df['ts_feature'])\n",
    "print(\"All arrays have the same shape:\", result)"
   ]
  },
  {
   "cell_type": "code",
   "execution_count": 9,
   "id": "d8acb477-1f63-40b3-9b68-eddd21dbc91f",
   "metadata": {
    "tags": []
   },
   "outputs": [],
   "source": [
    "# Extract features from 'ts_feature'\n",
    "X = np.stack(df['ts_feature'].values)"
   ]
  },
  {
   "cell_type": "code",
   "execution_count": 10,
   "id": "6dc98423-2190-40fb-b18e-c7de5bdd3803",
   "metadata": {
    "tags": []
   },
   "outputs": [],
   "source": [
    "# Apply SMOTE to fix class imbalance\n",
    "smote = SMOTE(random_state=28)\n",
    "X_resampled, y_resampled = smote.fit_resample(X, df['War'])"
   ]
  },
  {
   "cell_type": "code",
   "execution_count": 11,
   "id": "5bc4c333-781a-4bc7-99fe-16df917cc1cb",
   "metadata": {
    "tags": []
   },
   "outputs": [
    {
     "name": "stdout",
     "output_type": "stream",
     "text": [
      "War\n",
      "0    887\n",
      "1    887\n",
      "Name: count, dtype: int64\n"
     ]
    }
   ],
   "source": [
    "new_class_counts = y_resampled.value_counts()\n",
    "new_class_counts = new_class_counts.sort_index()\n",
    "\n",
    "print(new_class_counts)"
   ]
  },
  {
   "cell_type": "code",
   "execution_count": 12,
   "id": "13e649f0-3399-4cc2-bc16-f02c3496cbea",
   "metadata": {
    "tags": []
   },
   "outputs": [],
   "source": [
    "# Create an instance of SMOTEENN with adjusted sampling strategy\n",
    "smote_enn = SMOTEENN(sampling_strategy={1: 280}, random_state=28)\n",
    "\n",
    "# Resample the DataFrame using SMOTE-ENN\n",
    "X_resampled_SMOTEENN, y_resampled_SMOTEENN = smote_enn.fit_resample(X, df['War'])"
   ]
  },
  {
   "cell_type": "code",
   "execution_count": 13,
   "id": "ad210fb0-34a9-4a76-a2d3-a41319b3fd8c",
   "metadata": {
    "tags": []
   },
   "outputs": [
    {
     "name": "stdout",
     "output_type": "stream",
     "text": [
      "War\n",
      "0    330\n",
      "1    262\n",
      "Name: count, dtype: int64\n"
     ]
    }
   ],
   "source": [
    "new_class_counts2 = y_resampled_SMOTEENN.value_counts()\n",
    "new_class_counts2 = new_class_counts2.sort_index()\n",
    "\n",
    "print(new_class_counts2)"
   ]
  },
  {
   "cell_type": "code",
   "execution_count": 14,
   "id": "a096b157-ab89-4e7b-9d31-7fd28a8c21e7",
   "metadata": {
    "tags": []
   },
   "outputs": [
    {
     "data": {
      "image/png": "[encoded data removed]",
      "text/plain": [
       "<Figure size 600x300 with 2 Axes>"
      ]
     },
     "metadata": {},
     "output_type": "display_data"
    }
   ],
   "source": [
    "# Visualize change in class imbalance\n",
    "plt.figure(figsize=(6, 3))\n",
    "\n",
    "plt.subplot(1, 2, 1)\n",
    "old_class_counts.plot(kind='bar', color=['#232D4B', '#E57200'])\n",
    "plt.title('Before SMOTE', weight='bold')\n",
    "plt.xlabel('Class', weight='bold', size=12)\n",
    "plt.ylabel('Count', weight='bold', size=12)\n",
    "plt.xticks(rotation=0, weight='bold')  # Make xticks bold\n",
    "plt.yticks(weight='bold')  # Make yticks bold\n",
    "\n",
    "plt.subplot(1, 2, 2)\n",
    "new_class_counts2.plot(kind='bar', color=['#232D4B', '#E57200'])\n",
    "plt.title('After SMOTE', weight='bold')\n",
    "plt.xlabel('Class', weight='bold', size=12)\n",
    "plt.ylabel('Count', weight='bold', size=12)\n",
    "plt.xticks(rotation=0, weight='bold')  # Make xticks bold\n",
    "plt.yticks(weight='bold')  # Make yticks bold\n",
    "\n",
    "plt.tight_layout()\n",
    "plt.show()"
   ]
  },
  {
   "cell_type": "markdown",
   "id": "a86f771f-a425-4580-ade1-b027e3966b03",
   "metadata": {},
   "source": [
    "### Train/test split"
   ]
  },
  {
   "cell_type": "code",
   "execution_count": 23,
   "id": "fe3b393e-91d0-4713-8513-bdeffc8e4792",
   "metadata": {
    "tags": []
   },
   "outputs": [],
   "source": [
    "# Split the dataset into training and testing sets\n",
    "X_train, X_test, y_train, y_test = train_test_split(X_resampled, \n",
    "                                                    y_resampled, \n",
    "                                                    test_size=0.2, \n",
    "                                                    random_state=28)"
   ]
  },
  {
   "cell_type": "markdown",
   "id": "322dc6ae-822c-445b-99f2-ff5b9ac483fc",
   "metadata": {},
   "source": [
    "### Exploring a Basic NN"
   ]
  },
  {
   "cell_type": "code",
   "execution_count": 24,
   "id": "0f1010eb-d234-406d-b9d5-a8a1a49c4159",
   "metadata": {
    "tags": []
   },
   "outputs": [
    {
     "name": "stderr",
     "output_type": "stream",
     "text": [
      "/home/bdr6qz/.local/lib/python3.11/site-packages/keras/src/layers/core/dense.py:85: UserWarning: Do not pass an `input_shape`/`input_dim` argument to a layer. When using Sequential models, prefer using an `Input(shape)` object as the first layer in the model instead.\n",
      "  super().__init__(activity_regularizer=activity_regularizer, **kwargs)\n"
     ]
    }
   ],
   "source": [
    "# Define the neural network model\n",
    "model = Sequential([\n",
    "    Dense(128, \n",
    "          activation='relu', \n",
    "          input_shape=(768,),\n",
    "          kernel_initializer='he_normal', \n",
    "          kernel_regularizer=keras.regularizers.l2(0.01)),\n",
    "    Dropout(0.1),\n",
    "    Dense(64, \n",
    "          activation='relu',\n",
    "          kernel_initializer='he_normal',\n",
    "          kernel_regularizer=keras.regularizers.l2(0.01)),\n",
    "    Dropout(0.1),\n",
    "    Dense(1, \n",
    "          activation='sigmoid',\n",
    "          kernel_initializer='he_normal',\n",
    "          kernel_regularizer=keras.regularizers.l2(0.01))\n",
    "])"
   ]
  },
  {
   "cell_type": "code",
   "execution_count": 25,
   "id": "83afd34b-615f-4010-9579-d2c70331f7bf",
   "metadata": {
    "tags": []
   },
   "outputs": [],
   "source": [
    "#opt = tf.keras.optimizers.Adam(learning_rate=0.001, weight_decay=0.01)#, use_ema=True, ema_momentum=0.9)\n",
    "opt = tf.keras.optimizers.SGD(learning_rate=0.001, momentum=0.99, nesterov=True)\n",
    "#opt = tf.keras.optimizers.Adadelta(learning_rate=0.01, use_ema=True, ema_momentum=0.99)\n",
    "\n",
    "# Compile the model\n",
    "model.compile(optimizer=opt,\n",
    "              loss='binary_crossentropy',\n",
    "              metrics=['accuracy']) "
   ]
  },
  {
   "cell_type": "code",
   "execution_count": 26,
   "id": "825cdc74-4edf-4fcc-8ce0-3a798618dac8",
   "metadata": {
    "tags": []
   },
   "outputs": [
    {
     "name": "stdout",
     "output_type": "stream",
     "text": [
      "Epoch 1/10\n",
      "\u001b[1m71/71\u001b[0m \u001b[32m━━━━━━━━━━━━━━━━━━━━\u001b[0m\u001b[37m\u001b[0m \u001b[1m6s\u001b[0m 45ms/step - accuracy: 0.5665 - loss: 4.5249 - val_accuracy: 0.6232 - val_loss: 4.2158\n",
      "Epoch 2/10\n",
      "\u001b[1m71/71\u001b[0m \u001b[32m━━━━━━━━━━━━━━━━━━━━\u001b[0m\u001b[37m\u001b[0m \u001b[1m0s\u001b[0m 1ms/step - accuracy: 0.6061 - loss: 4.0534 - val_accuracy: 0.5915 - val_loss: 3.5903\n",
      "Epoch 3/10\n",
      "\u001b[1m71/71\u001b[0m \u001b[32m━━━━━━━━━━━━━━━━━━━━\u001b[0m\u001b[37m\u001b[0m \u001b[1m0s\u001b[0m 1ms/step - accuracy: 0.6540 - loss: 3.3830 - val_accuracy: 0.7042 - val_loss: 2.8828\n",
      "Epoch 4/10\n",
      "\u001b[1m71/71\u001b[0m \u001b[32m━━━━━━━━━━━━━━━━━━━━\u001b[0m\u001b[37m\u001b[0m \u001b[1m0s\u001b[0m 1ms/step - accuracy: 0.6935 - loss: 2.6994 - val_accuracy: 0.6901 - val_loss: 2.2944\n",
      "Epoch 5/10\n",
      "\u001b[1m71/71\u001b[0m \u001b[32m━━━━━━━━━━━━━━━━━━━━\u001b[0m\u001b[37m\u001b[0m \u001b[1m0s\u001b[0m 1ms/step - accuracy: 0.7571 - loss: 2.1003 - val_accuracy: 0.7430 - val_loss: 1.7713\n",
      "Epoch 6/10\n",
      "\u001b[1m71/71\u001b[0m \u001b[32m━━━━━━━━━━━━━━━━━━━━\u001b[0m\u001b[37m\u001b[0m \u001b[1m0s\u001b[0m 1ms/step - accuracy: 0.7831 - loss: 1.6344 - val_accuracy: 0.8099 - val_loss: 1.3743\n",
      "Epoch 7/10\n",
      "\u001b[1m71/71\u001b[0m \u001b[32m━━━━━━━━━━━━━━━━━━━━\u001b[0m\u001b[37m\u001b[0m \u001b[1m0s\u001b[0m 1ms/step - accuracy: 0.8590 - loss: 1.2379 - val_accuracy: 0.8944 - val_loss: 1.0517\n",
      "Epoch 8/10\n",
      "\u001b[1m71/71\u001b[0m \u001b[32m━━━━━━━━━━━━━━━━━━━━\u001b[0m\u001b[37m\u001b[0m \u001b[1m0s\u001b[0m 1ms/step - accuracy: 0.8668 - loss: 0.9856 - val_accuracy: 0.9190 - val_loss: 0.8439\n",
      "Epoch 9/10\n",
      "\u001b[1m71/71\u001b[0m \u001b[32m━━━━━━━━━━━━━━━━━━━━\u001b[0m\u001b[37m\u001b[0m \u001b[1m0s\u001b[0m 2ms/step - accuracy: 0.9130 - loss: 0.7759 - val_accuracy: 0.9155 - val_loss: 0.7053\n",
      "Epoch 10/10\n",
      "\u001b[1m71/71\u001b[0m \u001b[32m━━━━━━━━━━━━━━━━━━━━\u001b[0m\u001b[37m\u001b[0m \u001b[1m0s\u001b[0m 1ms/step - accuracy: 0.9357 - loss: 0.6326 - val_accuracy: 0.8662 - val_loss: 0.7222\n"
     ]
    }
   ],
   "source": [
    "# Train the model\n",
    "history = model.fit(X_train, y_train,\n",
    "                    epochs=10,\n",
    "                    batch_size=16,\n",
    "                    validation_split=0.2)"
   ]
  },
  {
   "cell_type": "code",
   "execution_count": 27,
   "id": "329eb63b-e76b-4a4f-925b-9610901d6eda",
   "metadata": {
    "tags": []
   },
   "outputs": [
    {
     "data": {
      "image/png": "[encoded data removed]",
      "text/plain": [
       "<Figure size 800x500 with 2 Axes>"
      ]
     },
     "metadata": {},
     "output_type": "display_data"
    }
   ],
   "source": [
    "acc = history.history['accuracy']\n",
    "val_acc = history.history['val_accuracy']\n",
    "\n",
    "loss = history.history['loss']\n",
    "val_loss = history.history['val_loss']\n",
    "\n",
    "epochs_range = range(10)\n",
    "\n",
    "plt.figure(figsize=(8, 5))\n",
    "plt.subplot(1, 2, 1)\n",
    "plt.plot(epochs_range, acc, label='Training Accuracy')\n",
    "plt.plot(epochs_range, val_acc, label='Validation Accuracy')\n",
    "plt.legend(loc='lower right')\n",
    "plt.title('Training and Validation Accuracy')\n",
    "\n",
    "plt.subplot(1, 2, 2)\n",
    "plt.plot(epochs_range, loss, label='Training Loss')\n",
    "plt.plot(epochs_range, val_loss, label='Validation Loss')\n",
    "plt.legend(loc='upper right')\n",
    "plt.title('Training and Validation Loss')\n",
    "plt.show()"
   ]
  },
  {
   "cell_type": "code",
   "execution_count": 28,
   "id": "fc1cd006-3d29-45ff-9e78-3524cf5bfd3a",
   "metadata": {
    "tags": []
   },
   "outputs": [
    {
     "name": "stdout",
     "output_type": "stream",
     "text": [
      "\u001b[1m12/12\u001b[0m \u001b[32m━━━━━━━━━━━━━━━━━━━━\u001b[0m\u001b[37m\u001b[0m \u001b[1m0s\u001b[0m 15ms/step\n",
      "AUC-ROC Score: 0.9738462515076493\n",
      "F1-Score: 0.8578313253012048\n"
     ]
    }
   ],
   "source": [
    "# Predict probs for positive class\n",
    "y_pred_prob = model.predict(X_test)\n",
    "\n",
    "# AUC-ROC score\n",
    "auc_roc = roc_auc_score(y_test, y_pred_prob)\n",
    "\n",
    "# Convert probs to class labels\n",
    "y_pred_class = (y_pred_prob > 0.5).astype(int)\n",
    "\n",
    "# F1-score\n",
    "f1 = f1_score(y_test, y_pred_class)\n",
    "\n",
    "print(\"AUC-ROC Score:\", auc_roc)\n",
    "print(\"F1-Score:\", f1)"
   ]
  },
  {
   "cell_type": "markdown",
   "id": "20a3b4fb-6503-4cdc-9d43-aabc5ba441a3",
   "metadata": {},
   "source": [
    "---\n",
    "\n",
    "# Comments on model results:\n",
    "\n",
    "These results possibly indicate that there are discernible patterns in the text of US presidential speeches that correlate with the US entering a major war  within one year of the speech. This (I think) suggests that Presidents leverage certain language or rhetorical cues in their speeches to prepare the nation for war."
   ]
  },
  {
   "cell_type": "markdown",
   "id": "cf3d779a-9081-4f0a-a38f-32157713c5c1",
   "metadata": {},
   "source": [
    "# Next Steps:\n",
    "\n",
    "Professor mentioned that it would be interesting if we can try to identify discriminative features between the two classes (i.e., Interpretable Learning). So, see if we could answer questions like: What is the model seeing in the speech that makes it classify it as leading up to war or what is missing in the other class that makes it classify that way?\n",
    "\n",
    "To tackle this we might consider:\n",
    "\n",
    "### __1__: Layer-wise Relevance Propagation (LRP):\n",
    "\n",
    "Implement LRP to understand the relevance of input features to the model's predictions. This can help us identify which words or phrases in the speeches contribute most significantly to the classification decision.\n",
    "\n",
    "### __2__: SHAP (SHapley Additive exPlanations):\n",
    "\n",
    "Use SHAP values to compute the importance of each feature in the context of individual predictions. This technique will provide insights into how each feature influences the model's output.\n",
    "\n",
    "### __3__: Feature Importance Scores:\n",
    "\n",
    "After training your model, extract the weights of the first layer (Dense(128)) and analyze which input features have the highest weights. This can give us an idea of which words or phrases are most influential in determining the classification.\n",
    "\n",
    "### __4__: Attention Mechanisms:\n",
    "\n",
    "If applicable, incorporate attention mechanisms into your model architecture. Attention mechanisms can highlight which parts of the input sequence are most relevant for making predictions, providing interpretability at the token level.\n",
    "\n",
    "### __5__: Word Embedding Visualization:\n",
    "\n",
    "Visualize word embeddings to understand how words are represented in the model's embedding space. This can help us identify clusters of words associated with specific classes (e.g., words related to war).\n",
    "\n",
    "### __6__: Grad-CAM (Gradient-weighted Class Activation Mapping):\n",
    "\n",
    "If we use a model architecture with convolutional layers, we might consider apply Grad-CAM to visualize which parts of the input text are most important for the model's predictions. This technique highlights regions of the input that contribute most to the final decision."
   ]
  },
  {
   "cell_type": "code",
   "execution_count": null,
   "id": "20c3ebb8-6f98-4160-9299-c6f69a8a7c80",
   "metadata": {},
   "outputs": [],
   "source": []
  }
 ],
 "metadata": {
  "kernelspec": {
   "display_name": "Python 3 (ipykernel)",
   "language": "python",
   "name": "python3"
  },
  "language_info": {
   "codemirror_mode": {
    "name": "ipython",
    "version": 3
   },
   "file_extension": ".py",
   "mimetype": "text/x-python",
   "name": "python",
   "nbconvert_exporter": "python",
   "pygments_lexer": "ipython3",
   "version": "3.11.4"
  }
 },
 "nbformat": 4,
 "nbformat_minor": 5
}

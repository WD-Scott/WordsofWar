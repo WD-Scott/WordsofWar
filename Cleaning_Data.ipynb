{
 "cells": [
  {
   "cell_type": "markdown",
   "id": "b9042169-4ea0-4539-8d1d-89c63c5c1cf9",
   "metadata": {},
   "source": [
    "# To Do:\n",
    "\n",
    "- Clean data further.\n",
    "- Think about breaking the data into two separate categories (longer versus shorter) and use LSTM cells for longer but recurrent for shorter. Skip-layers?\n",
    "- Do we want to add wars before 1812?\n",
    "- Bag of Words (word freq)"
   ]
  },
  {
   "cell_type": "code",
   "execution_count": 228,
   "id": "f252874f-5722-4985-9f3a-aec9adec011b",
   "metadata": {},
   "outputs": [],
   "source": [
    "import pandas as pd\n",
    "import numpy as np\n",
    "from nltk.corpus import stopwords\n",
    "from nltk.tokenize import word_tokenize\n",
    "from collections import Counter\n",
    "import re\n",
    "\n",
    "import os\n",
    "os.chdir('/Users/wyattscott/Documents/DS6050/Project')"
   ]
  },
  {
   "cell_type": "code",
   "execution_count": 229,
   "id": "876db210-05d1-4b7f-8e38-60f4b76a1906",
   "metadata": {},
   "outputs": [],
   "source": [
    "df = pd.read_csv(\"presidential_speeches.csv\", usecols=['Date', 'President', 'Party', 'Transcript'])"
   ]
  },
  {
   "cell_type": "code",
   "execution_count": 230,
   "id": "9d677a07-fbfa-467a-8b8c-32e799556a58",
   "metadata": {},
   "outputs": [],
   "source": [
    "df['Date'] = pd.to_datetime(df['Date'], format='%Y-%m-%d')"
   ]
  },
  {
   "cell_type": "code",
   "execution_count": 231,
   "id": "515226d1-b6be-4672-951f-2ec79ec9815b",
   "metadata": {},
   "outputs": [],
   "source": [
    "df_wars = pd.DataFrame({\n",
    "    'War_Name': ['First Barbary Wars',\n",
    "                 'War of 1812',\n",
    "                 'Indian Wars',\n",
    "                 'Mexican-American War',\n",
    "                 'Spanish-American War', \n",
    "                 'Mexican Border Wars', \n",
    "                 'World War 1', \n",
    "                 'World War 2', \n",
    "                 'Korean War', \n",
    "                 'Vietnam War', \n",
    "                 'Persian Gulf War', \n",
    "                 'OEF', \n",
    "                 'OFS', \n",
    "                 'OES', \n",
    "                 'OIF', \n",
    "                 'OND', \n",
    "                 'OIR'\n",
    "                ],\n",
    "    'Start_Date': ['1801-05-01',\n",
    "                   '1812-06-18',\n",
    "                   '1817-01-01',\n",
    "                   '1846-04-25',\n",
    "                   '1898-04-21',\n",
    "                   '1916-05-09',\n",
    "                   '1917-04-06',\n",
    "                   '1941-12-07',\n",
    "                   '1950-06-25',\n",
    "                   '1964-08-05',\n",
    "                   '1990-08-02',\n",
    "                   '2001-10-07',\n",
    "                   '2015-01-01',\n",
    "                   '2021-10-01',\n",
    "                   '2003-03-17',\n",
    "                   '2010-11-01',\n",
    "                   '2014-10-15'\n",
    "                  ],\n",
    "    'End_Date': ['1805-06-10',\n",
    "                 '1815-02-18',\n",
    "                 '1898-12-31',\n",
    "                 '1848-02-02',\n",
    "                 '1903-07-15',\n",
    "                 '1917-04-05',\n",
    "                 '1918-11-11',\n",
    "                 '1946-12-31',\n",
    "                 '1955-01-31',\n",
    "                 '1975-05-07',\n",
    "                 '1991-04-06',\n",
    "                 '2014-12-28',\n",
    "                 '2021-08-31',\n",
    "                 '2024-02-20',\n",
    "                 '2010-08-31',\n",
    "                 '2011-12-15',\n",
    "                 '2024-02-20'\n",
    "                ],\n",
    "})\n",
    "\n",
    "df_wars['Start_Date'] = pd.to_datetime(df_wars['Start_Date'], format='%Y-%m-%d')\n",
    "df_wars['End_Date'] = pd.to_datetime(df_wars['End_Date'], format='%Y-%m-%d')"
   ]
  },
  {
   "cell_type": "code",
   "execution_count": 232,
   "id": "f126f343-4fc0-453d-bf6f-64d50b0be0d9",
   "metadata": {},
   "outputs": [],
   "source": [
    "# Filter speeches df for Date > 1814\n",
    "df = df[df['Date'] >= ('1798-01-01')].copy()"
   ]
  },
  {
   "cell_type": "code",
   "execution_count": 233,
   "id": "15184e19-96b1-4d65-8e23-97c1bc1d9981",
   "metadata": {},
   "outputs": [],
   "source": [
    "# Create a new column called \"War\" in df and initialize it with zeros\n",
    "df['War'] = 0\n",
    "\n",
    "# Iterate over each row in df\n",
    "for index, row in df.iterrows():\n",
    "    # Get the current date from the row\n",
    "    current_date = row['Date']\n",
    "    \n",
    "    # Check if the current date falls within 6 months before the start date of any war in df_wars\n",
    "    for _, war_row in df_wars.iterrows():\n",
    "        start_date = war_row['Start_Date']\n",
    "        \n",
    "        # Calculate 1yr before the start date of the war\n",
    "        six_months_before = start_date - pd.DateOffset(years=1)\n",
    "        \n",
    "        # If the current date falls 6 months before the start date of the war, set \"War\" column to 1\n",
    "        if current_date >= six_months_before and current_date <= start_date:\n",
    "            df.at[index, 'War'] = 1\n",
    "            break"
   ]
  },
  {
   "cell_type": "code",
   "execution_count": 234,
   "id": "60f63912-c32d-422d-9e36-cdb0bff09086",
   "metadata": {},
   "outputs": [
    {
     "data": {
      "text/html": [
       "<div>\n",
       "<style scoped>\n",
       "    .dataframe tbody tr th:only-of-type {\n",
       "        vertical-align: middle;\n",
       "    }\n",
       "\n",
       "    .dataframe tbody tr th {\n",
       "        vertical-align: top;\n",
       "    }\n",
       "\n",
       "    .dataframe thead th {\n",
       "        text-align: right;\n",
       "    }\n",
       "</style>\n",
       "<table border=\"1\" class=\"dataframe\">\n",
       "  <thead>\n",
       "    <tr style=\"text-align: right;\">\n",
       "      <th></th>\n",
       "      <th>Date</th>\n",
       "      <th>President</th>\n",
       "      <th>Party</th>\n",
       "      <th>Transcript</th>\n",
       "      <th>War</th>\n",
       "    </tr>\n",
       "  </thead>\n",
       "  <tbody>\n",
       "    <tr>\n",
       "      <th>24</th>\n",
       "      <td>1798-03-23</td>\n",
       "      <td>John Adams</td>\n",
       "      <td>Federalist</td>\n",
       "      <td>As the safety and prosperity of nations ultima...</td>\n",
       "      <td>0</td>\n",
       "    </tr>\n",
       "    <tr>\n",
       "      <th>25</th>\n",
       "      <td>1798-12-08</td>\n",
       "      <td>John Adams</td>\n",
       "      <td>Federalist</td>\n",
       "      <td>Gentlemen of the Senate and Gentlemen of the H...</td>\n",
       "      <td>0</td>\n",
       "    </tr>\n",
       "    <tr>\n",
       "      <th>26</th>\n",
       "      <td>1799-12-03</td>\n",
       "      <td>John Adams</td>\n",
       "      <td>Federalist</td>\n",
       "      <td>It is with peculiar satisfaction that I meet t...</td>\n",
       "      <td>0</td>\n",
       "    </tr>\n",
       "    <tr>\n",
       "      <th>27</th>\n",
       "      <td>1799-12-19</td>\n",
       "      <td>John Adams</td>\n",
       "      <td>Federalist</td>\n",
       "      <td>Gentlemen of the Senate and Gentlemen of the H...</td>\n",
       "      <td>0</td>\n",
       "    </tr>\n",
       "    <tr>\n",
       "      <th>28</th>\n",
       "      <td>1800-05-21</td>\n",
       "      <td>John Adams</td>\n",
       "      <td>Federalist</td>\n",
       "      <td>Whereas the late wicked and treasonable insurr...</td>\n",
       "      <td>1</td>\n",
       "    </tr>\n",
       "  </tbody>\n",
       "</table>\n",
       "</div>"
      ],
      "text/plain": [
       "         Date   President       Party  \\\n",
       "24 1798-03-23  John Adams  Federalist   \n",
       "25 1798-12-08  John Adams  Federalist   \n",
       "26 1799-12-03  John Adams  Federalist   \n",
       "27 1799-12-19  John Adams  Federalist   \n",
       "28 1800-05-21  John Adams  Federalist   \n",
       "\n",
       "                                           Transcript  War  \n",
       "24  As the safety and prosperity of nations ultima...    0  \n",
       "25  Gentlemen of the Senate and Gentlemen of the H...    0  \n",
       "26  It is with peculiar satisfaction that I meet t...    0  \n",
       "27  Gentlemen of the Senate and Gentlemen of the H...    0  \n",
       "28  Whereas the late wicked and treasonable insurr...    1  "
      ]
     },
     "execution_count": 234,
     "metadata": {},
     "output_type": "execute_result"
    }
   ],
   "source": [
    "df.head()"
   ]
  },
  {
   "cell_type": "code",
   "execution_count": 235,
   "id": "e3884d8c-0ac0-401d-91fa-42afbb3e0ecd",
   "metadata": {},
   "outputs": [
    {
     "data": {
      "text/plain": [
       "Date          0\n",
       "President     0\n",
       "Party         0\n",
       "Transcript    1\n",
       "War           0\n",
       "dtype: int64"
      ]
     },
     "execution_count": 235,
     "metadata": {},
     "output_type": "execute_result"
    }
   ],
   "source": [
    "df.isnull().sum()"
   ]
  },
  {
   "cell_type": "code",
   "execution_count": 236,
   "id": "de1c2b88-8975-45fc-ad7b-91c9d9764b70",
   "metadata": {},
   "outputs": [],
   "source": [
    "df = df.dropna(axis=0).reset_index(drop=True)"
   ]
  },
  {
   "cell_type": "code",
   "execution_count": 237,
   "id": "cb258a1a-a314-4472-b1c1-3b5f16aa7dae",
   "metadata": {},
   "outputs": [
    {
     "data": {
      "text/plain": [
       "Date          0\n",
       "President     0\n",
       "Party         0\n",
       "Transcript    0\n",
       "War           0\n",
       "dtype: int64"
      ]
     },
     "execution_count": 237,
     "metadata": {},
     "output_type": "execute_result"
    }
   ],
   "source": [
    "df.isnull().sum()"
   ]
  },
  {
   "cell_type": "code",
   "execution_count": 238,
   "id": "c60204d2-1330-4431-9fd8-14ad72d979ef",
   "metadata": {},
   "outputs": [],
   "source": [
    "# Additional words to remove\n",
    "additional_stopwords = ['united states', 'states', 'government', 'president', 'americans', 'america']\n",
    "\n",
    "# Combine NLTK stopwords with additional stopwords\n",
    "stop_words = set(stopwords.words('english') + additional_stopwords)"
   ]
  },
  {
   "cell_type": "code",
   "execution_count": 239,
   "id": "5f40e67b-339c-4d84-89a5-3523e3e14a85",
   "metadata": {},
   "outputs": [],
   "source": [
    "# Clean transcript for President's name (when POTUS is author)\n",
    "def clean_transcript(row):\n",
    "    '''\n",
    "    Clean up the transcript by removing instances of the president's name, stop words, and punctuation.\n",
    "\n",
    "    Parameters\n",
    "    ----------\n",
    "    row : pandas.Series\n",
    "        A row from the DataFrame containing 'President' and 'Transcript' columns.\n",
    "\n",
    "    Returns\n",
    "    -------\n",
    "    str\n",
    "        The cleaned transcript with instances of the president's name, stop words, and punctuation removed.\n",
    "\n",
    "    Notes\n",
    "    -----\n",
    "    This function iterates over each row in the DataFrame and removes the president's\n",
    "    name from the transcript text. It converts both the president's name and the transcript\n",
    "    text to lowercase to ensure case-insensitive matching. Additionally, it removes common\n",
    "    English stop words, any additional stop words specified, and punctuation.\n",
    "    '''\n",
    "    president = row['President'].lower()\n",
    "    transcript = str(row['Transcript'])\n",
    "\n",
    "    # Remove floating-point numbers and integers\n",
    "    transcript = re.sub(r'\\b\\d+(?:\\.\\d+)?\\s+', '', transcript)\n",
    "    \n",
    "    # Convert transcript to lowercase\n",
    "    transcript = transcript.lower()\n",
    "\n",
    "    # Remove president's name\n",
    "    transcript = transcript.replace(president, '').strip()\n",
    "\n",
    "    # Remove punctuation using regular expressions\n",
    "    transcript = re.sub(r'[^\\w\\s]', '', transcript)\n",
    "\n",
    "    # Tokenize transcript\n",
    "    tokens = word_tokenize(transcript)\n",
    "\n",
    "    # Remove stop words\n",
    "    cleaned_tokens = [word for word in tokens if word not in stop_words]\n",
    "\n",
    "    # Join tokens back into a string\n",
    "    cleaned_transcript = ' '.join(cleaned_tokens)\n",
    "\n",
    "    return cleaned_transcript\n",
    "# Apply the cleaning function to each row\n",
    "df['Transcript'] = df.apply(clean_transcript, axis=1)"
   ]
  },
  {
   "cell_type": "code",
   "execution_count": 240,
   "id": "9ed53fbf-89ae-407f-a41d-118859fb2136",
   "metadata": {},
   "outputs": [
    {
     "data": {
      "text/html": [
       "<div>\n",
       "<style scoped>\n",
       "    .dataframe tbody tr th:only-of-type {\n",
       "        vertical-align: middle;\n",
       "    }\n",
       "\n",
       "    .dataframe tbody tr th {\n",
       "        vertical-align: top;\n",
       "    }\n",
       "\n",
       "    .dataframe thead th {\n",
       "        text-align: right;\n",
       "    }\n",
       "</style>\n",
       "<table border=\"1\" class=\"dataframe\">\n",
       "  <thead>\n",
       "    <tr style=\"text-align: right;\">\n",
       "      <th></th>\n",
       "      <th>Date</th>\n",
       "      <th>President</th>\n",
       "      <th>Party</th>\n",
       "      <th>Transcript</th>\n",
       "      <th>War</th>\n",
       "    </tr>\n",
       "  </thead>\n",
       "  <tbody>\n",
       "    <tr>\n",
       "      <th>0</th>\n",
       "      <td>1798-03-23</td>\n",
       "      <td>John Adams</td>\n",
       "      <td>Federalist</td>\n",
       "      <td>safety prosperity nations ultimately essential...</td>\n",
       "      <td>0</td>\n",
       "    </tr>\n",
       "    <tr>\n",
       "      <th>1</th>\n",
       "      <td>1798-12-08</td>\n",
       "      <td>John Adams</td>\n",
       "      <td>Federalist</td>\n",
       "      <td>gentlemen senate gentlemen house representativ...</td>\n",
       "      <td>0</td>\n",
       "    </tr>\n",
       "    <tr>\n",
       "      <th>2</th>\n",
       "      <td>1799-12-03</td>\n",
       "      <td>John Adams</td>\n",
       "      <td>Federalist</td>\n",
       "      <td>peculiar satisfaction meet 6th congress united...</td>\n",
       "      <td>0</td>\n",
       "    </tr>\n",
       "    <tr>\n",
       "      <th>3</th>\n",
       "      <td>1799-12-19</td>\n",
       "      <td>John Adams</td>\n",
       "      <td>Federalist</td>\n",
       "      <td>gentlemen senate gentlemen house representativ...</td>\n",
       "      <td>0</td>\n",
       "    </tr>\n",
       "    <tr>\n",
       "      <th>4</th>\n",
       "      <td>1800-05-21</td>\n",
       "      <td>John Adams</td>\n",
       "      <td>Federalist</td>\n",
       "      <td>whereas late wicked treasonable insurrection a...</td>\n",
       "      <td>1</td>\n",
       "    </tr>\n",
       "  </tbody>\n",
       "</table>\n",
       "</div>"
      ],
      "text/plain": [
       "        Date   President       Party  \\\n",
       "0 1798-03-23  John Adams  Federalist   \n",
       "1 1798-12-08  John Adams  Federalist   \n",
       "2 1799-12-03  John Adams  Federalist   \n",
       "3 1799-12-19  John Adams  Federalist   \n",
       "4 1800-05-21  John Adams  Federalist   \n",
       "\n",
       "                                          Transcript  War  \n",
       "0  safety prosperity nations ultimately essential...    0  \n",
       "1  gentlemen senate gentlemen house representativ...    0  \n",
       "2  peculiar satisfaction meet 6th congress united...    0  \n",
       "3  gentlemen senate gentlemen house representativ...    0  \n",
       "4  whereas late wicked treasonable insurrection a...    1  "
      ]
     },
     "execution_count": 240,
     "metadata": {},
     "output_type": "execute_result"
    }
   ],
   "source": [
    "df.head()"
   ]
  },
  {
   "cell_type": "code",
   "execution_count": 241,
   "id": "65dfeb9c-c5cc-4794-9854-d1fb2caac065",
   "metadata": {},
   "outputs": [
    {
     "data": {
      "text/plain": [
       "Date          0\n",
       "President     0\n",
       "Party         0\n",
       "Transcript    0\n",
       "War           0\n",
       "dtype: int64"
      ]
     },
     "execution_count": 241,
     "metadata": {},
     "output_type": "execute_result"
    }
   ],
   "source": [
    "df.isnull().sum()"
   ]
  },
  {
   "cell_type": "code",
   "execution_count": 242,
   "id": "11a14970-b047-40a1-b995-9359c8feae93",
   "metadata": {},
   "outputs": [],
   "source": [
    "df = df.dropna(axis=0).reset_index(drop=True)"
   ]
  },
  {
   "cell_type": "code",
   "execution_count": 243,
   "id": "70801d24-c61f-4fcc-8f45-4c31e8b2cf06",
   "metadata": {},
   "outputs": [
    {
     "data": {
      "text/plain": [
       "Date          0\n",
       "President     0\n",
       "Party         0\n",
       "Transcript    0\n",
       "War           0\n",
       "dtype: int64"
      ]
     },
     "execution_count": 243,
     "metadata": {},
     "output_type": "execute_result"
    }
   ],
   "source": [
    "df.isnull().sum()"
   ]
  },
  {
   "cell_type": "code",
   "execution_count": 247,
   "id": "804f9b46-198a-497c-bd8c-b7e4dafcc68c",
   "metadata": {},
   "outputs": [],
   "source": [
    "# Save to new csv for later use\n",
    "df.to_csv('Speeches_War_Clean.csv', index=False)"
   ]
  },
  {
   "cell_type": "code",
   "execution_count": null,
   "id": "afca3c55-4a51-4855-a283-e600fed73a40",
   "metadata": {},
   "outputs": [],
   "source": []
  }
 ],
 "metadata": {
  "kernelspec": {
   "display_name": "Python 3 (ipykernel)",
   "language": "python",
   "name": "python3"
  },
  "language_info": {
   "codemirror_mode": {
    "name": "ipython",
    "version": 3
   },
   "file_extension": ".py",
   "mimetype": "text/x-python",
   "name": "python",
   "nbconvert_exporter": "python",
   "pygments_lexer": "ipython3",
   "version": "3.11.0"
  }
 },
 "nbformat": 4,
 "nbformat_minor": 5
}

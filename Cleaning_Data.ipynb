{
 "cells": [
  {
   "cell_type": "code",
   "execution_count": 1,
   "id": "f252874f-5722-4985-9f3a-aec9adec011b",
   "metadata": {},
   "outputs": [],
   "source": [
    "import pandas as pd\n",
    "import numpy as np\n",
    "from nltk.corpus import stopwords\n",
    "from nltk.tokenize import word_tokenize\n",
    "from collections import Counter\n",
    "import re\n",
    "\n",
    "import os\n",
    "os.chdir('/Users/wyattscott/Documents/DS6050/Project')"
   ]
  },
  {
   "cell_type": "code",
   "execution_count": 2,
   "id": "876db210-05d1-4b7f-8e38-60f4b76a1906",
   "metadata": {},
   "outputs": [],
   "source": [
    "df = pd.read_csv(\"presidential_speeches.csv\", encoding = \"ISO-8859-1\", usecols=['Date', 'President', 'Party', 'Transcript'])"
   ]
  },
  {
   "cell_type": "code",
   "execution_count": 3,
   "id": "9d677a07-fbfa-467a-8b8c-32e799556a58",
   "metadata": {},
   "outputs": [],
   "source": [
    "df['Date'] = pd.to_datetime(df['Date'], format='%Y-%m-%d')"
   ]
  },
  {
   "cell_type": "code",
   "execution_count": 4,
   "id": "6de0e71b-0593-49a8-8b80-90312f1bbfc1",
   "metadata": {},
   "outputs": [
    {
     "data": {
      "text/html": [
       "<div>\n",
       "<style scoped>\n",
       "    .dataframe tbody tr th:only-of-type {\n",
       "        vertical-align: middle;\n",
       "    }\n",
       "\n",
       "    .dataframe tbody tr th {\n",
       "        vertical-align: top;\n",
       "    }\n",
       "\n",
       "    .dataframe thead th {\n",
       "        text-align: right;\n",
       "    }\n",
       "</style>\n",
       "<table border=\"1\" class=\"dataframe\">\n",
       "  <thead>\n",
       "    <tr style=\"text-align: right;\">\n",
       "      <th></th>\n",
       "      <th>Date</th>\n",
       "      <th>President</th>\n",
       "      <th>Party</th>\n",
       "      <th>Transcript</th>\n",
       "    </tr>\n",
       "  </thead>\n",
       "  <tbody>\n",
       "    <tr>\n",
       "      <th>0</th>\n",
       "      <td>1789-04-30</td>\n",
       "      <td>George Washington</td>\n",
       "      <td>Unaffiliated</td>\n",
       "      <td>Fellow Citizens of the Senate and the House of...</td>\n",
       "    </tr>\n",
       "    <tr>\n",
       "      <th>1</th>\n",
       "      <td>1789-10-03</td>\n",
       "      <td>George Washington</td>\n",
       "      <td>Unaffiliated</td>\n",
       "      <td>Whereas it is the duty of all Nations to ackno...</td>\n",
       "    </tr>\n",
       "    <tr>\n",
       "      <th>2</th>\n",
       "      <td>1790-01-08</td>\n",
       "      <td>George Washington</td>\n",
       "      <td>Unaffiliated</td>\n",
       "      <td>Fellow Citizens of the Senate and House of Rep...</td>\n",
       "    </tr>\n",
       "    <tr>\n",
       "      <th>3</th>\n",
       "      <td>1790-12-08</td>\n",
       "      <td>George Washington</td>\n",
       "      <td>Unaffiliated</td>\n",
       "      <td>Fellow citizens of the Senate and House of Rep...</td>\n",
       "    </tr>\n",
       "    <tr>\n",
       "      <th>4</th>\n",
       "      <td>1790-12-29</td>\n",
       "      <td>George Washington</td>\n",
       "      <td>Unaffiliated</td>\n",
       "      <td>I the President of the United States, by my ow...</td>\n",
       "    </tr>\n",
       "  </tbody>\n",
       "</table>\n",
       "</div>"
      ],
      "text/plain": [
       "        Date          President         Party  \\\n",
       "0 1789-04-30  George Washington  Unaffiliated   \n",
       "1 1789-10-03  George Washington  Unaffiliated   \n",
       "2 1790-01-08  George Washington  Unaffiliated   \n",
       "3 1790-12-08  George Washington  Unaffiliated   \n",
       "4 1790-12-29  George Washington  Unaffiliated   \n",
       "\n",
       "                                          Transcript  \n",
       "0  Fellow Citizens of the Senate and the House of...  \n",
       "1  Whereas it is the duty of all Nations to ackno...  \n",
       "2  Fellow Citizens of the Senate and House of Rep...  \n",
       "3  Fellow citizens of the Senate and House of Rep...  \n",
       "4  I the President of the United States, by my ow...  "
      ]
     },
     "execution_count": 4,
     "metadata": {},
     "output_type": "execute_result"
    }
   ],
   "source": [
    "df.head()"
   ]
  },
  {
   "cell_type": "code",
   "execution_count": 5,
   "id": "e236052a-8f38-450c-a078-e77ff7584b8b",
   "metadata": {},
   "outputs": [
    {
     "data": {
      "text/plain": [
       "Date          0\n",
       "President     0\n",
       "Party         0\n",
       "Transcript    1\n",
       "dtype: int64"
      ]
     },
     "execution_count": 5,
     "metadata": {},
     "output_type": "execute_result"
    }
   ],
   "source": [
    "df.isnull().sum()"
   ]
  },
  {
   "cell_type": "code",
   "execution_count": 6,
   "id": "cc95c283-c8a8-496d-80b0-c0a561f92a57",
   "metadata": {},
   "outputs": [
    {
     "name": "stdout",
     "output_type": "stream",
     "text": [
      "         Date         President                  Party Transcript\n",
      "52 1808-11-08  Thomas Jefferson  Democratic-Republican        NaN\n"
     ]
    }
   ],
   "source": [
    "null_transcript_rows = df[df['Transcript'].isnull()]\n",
    "\n",
    "print(null_transcript_rows)"
   ]
  },
  {
   "cell_type": "markdown",
   "id": "2cca518d-19e7-4859-838c-612913029e5e",
   "metadata": {},
   "source": [
    "#### The dataset contained a missing value for a speech by Thomas Jefferson on 11/08/1808, we filled this in by finding it from the source:"
   ]
  },
  {
   "cell_type": "markdown",
   "id": "845b7581-0f4d-4461-907f-b120aa4fb3bc",
   "metadata": {},
   "source": [
    "https://millercenter.org/the-presidency/presidential-speeches/november-8-1808-eighth-annual-message"
   ]
  },
  {
   "cell_type": "code",
   "execution_count": 7,
   "id": "9067206a-0e26-46d6-9caf-a18a6beafcb4",
   "metadata": {},
   "outputs": [],
   "source": [
    "TJ_18081108_transcript = \"It would have been a source, fellow citizens, of much gratification, if our last communications from Europe had enabled me to inform you that the belligerent nations, whose disregard of neutral rights has been so destructive to our commerce, had become awakened to the duty and true policy of revoking their unrighteous edicts. That no means might be omitted to produce this salutary effect, I lost no time in availing myself of the act authorizing a suspension, in whole or in part, of the several embargo laws. Our ministers at London and Paris were instructed to explain to the respective governments there, our disposition to exercise the authority in such manner as would withdraw the pretext on which the aggressions were originally founded, and open a way for a renewal of that commercial intercourse which it was alleged on all sides had been reluctantly obstructed. As each of those governments had pledged its readiness to concur in renouncing a measure which reached its adversary through the incontestable rights of neutrals only, and as the measure had been assumed by each as a retaliation for an asserted acquiescence in the aggressions of the other, it was reasonably expected that the occasion would have been seized by both for evincing the sincerity of their profession, and for restoring to the commerce of the United States its legitimate freedom. The instructions to our ministers with respect to the different belligerents were necessarily modified with reference to their different circumstances, and to the condition annexed by law to the executive power of suspension, requiring a degree of security to our commerce which would not result from a repeal of the decrees of France. Instead of a pledge, therefore, of a suspension of the embargo as to her in case of such a repeal, it was presumed that a sufficient inducement might be found in other considerations, and particularly in the change produced by a compliance with our just demands by one belligerent, and a refusal by the other, in the relations between the other and the United States. To Great Britain, whose power on the ocean is so ascendant, it was deemed not inconsistent with that condition to state explicitly, that on her rescinding her orders in relation to the United States their trade would be opened with her, and remain shut to her enemy, in case of his failure to rescind his decrees also. From France no answer has been received, nor any indication that the requisite change in her decrees is contemplated. The favorable reception of the proposition to Great Britain was the less to be doubted, as her orders of council had not only been referred for their vindication to an acquiescence on the part of the United States no longer to be pretended, but as the arrangement proposed, while it resisted the illegal decrees of France, involved, moreover, substantially, the precise advantages professedly aimed at by the British orders. The arrangement has nevertheless been rejected.This candid and liberal experiment having thus failed, and no other event having occurred on which a suspension of the embargo by the executive was authorized, it necessarily remains in the extent originally given to it. We have the satisfaction, however, to reflect, that in return for the privations by the measure, and which our fellow citizens in general have borne with patriotism, it has had the important effects of saving our mariners and our vast mercantile property, as well as of affording time for prosecuting the defensive and provisional measures called for by the occasion. It has demonstrated to foreign nations the moderation and firmness which govern our councils, and to our citizens the necessity of uniting in support of the laws and the rights of their country, and has thus long frustrated those usurpations and spoliations which, if resisted, involve war; if submitted to, sacrificed a vital principle of our national independence.Under a continuance of the belligerent measures which, in defiance of laws which consecrate the rights of neutrals, overspread the ocean with danger, it will rest with the wisdom of Congress to decide on the course best adapted to such a state of things; and bringing with them, as they do, from every part of the Union, the sentiments of our constituents, my confidence is strengthened, that in forming this decision they will, with an unerring regard to the essential rights and interests of the nation, weigh and compare the painful alternatives out of which a choice is to be made. Nor should I do justice to the virtues which on other occasions have marked the character of our fellow citizens, if I did not cherish an equal confidence that the alternative chosen, whatever it may be, will be maintained with all the fortitude and patriotism which the crisis ought to inspire.The documents containing the correspondences on the subject of the foreign edicts against our commerce, with the instructions given to our ministers at London and Paris, are now laid before you.The communications made to Congress at their last session explained the posture in which the close of the discussion relating to the attack by a British ship of war on the frigate Chesapeake left a subject on which the nation had manifested so honorable a sensibility. Every view of what had passed authorized a belief that immediate steps would be taken by the British government for redressing a wrong, which, the more it was investigated, appeared the more clearly to require what had not been provided for in the special mission. It is found that no steps have been taken for the purpose. On the contrary, it will be seen, in the documents laid before you, that the inadmissible preliminary which obstructed the adjustment is still adhered to; and, moreover, that it is now brought into connection with the distinct and irrelative case of the orders in council. The instructions which had been given to our ministers at London with a view to facilitate, if necessary, the reparation claimed by the United States, are included in the documents communicated.Our relations with the other powers of Europe have undergone no material changes since your last session. The important negotiations with Spain, which had been alternately suspended and resumed, necessarily experience a pause under the extraordinary and interesting crisis which distinguished her internal situation.With the Barbary powers we continue in harmony, with the exception of an unjustifiable proceeding of the dey of Algiers toward our consul to that regency. Its character and circumstances are now laid before you, and will enable you to decide how far it may, either now or hereafter, call for any measures not within the limits of the executive authority.With our Indian neighbors the public peace has been steadily maintained. Some instances of individual wrong have, as at other times, taken place, but in nowise implicating the will of the nation. Beyond the Mississippi, the Iowas, the Sacs, and the Alabamas, have delivered up for trial and punishment individuals from among themselves accused of murdering citizens of the United States. On this side of the Mississippi, the Creeks are exerting themselves to arrest offenders of the same kind; and the Choctaws have manifested their readiness and desire for amicable and just arrangements respecting depredations committed by disorderly persons of their tribe. And, generally, from a conviction that we consider them as part of ourselves, and cherish with sincerity their rights and interests, the attachment of the Indian tribes is gaining strength daily -- is extending from the nearer to the more remote, and will amply requite us for the justice and friendship practised towards them. Husbandry and household manufacture are advancing among them, more rapidly with the southern than the northern tribes, from circumstances of soil and climate; and one of the two great divisions of the Cherokee nation have now under consideration to solicit the citizenship of the United States, and to be identified with us in laws and government, in such progressive manner as we shall think best.In consequence of the appropriations of the last session of Congress for the security of our seaport towns and harbors, such works of defence have been erected as seemed to be called for by the situation of the several places, their relative importance, and the scale of expense indicated by the amount of the appropriation. These works will chiefly be finished in the course of the present season, except at New York and New Orleans, where most was to be done; and although a great proportion of the last appropriation has been expended on the former place, yet some further views will be submitted by Congress for rendering its security entirely adequate against naval enterprise. A view of what has been done at the several places, and of what is proposed to be done, shall be communicated as soon as the several reports are received.Of the gun-boats authorized by the act of December last, it has been thought necessary to build only one hundred and three in the present year. These, with those before possessed, are sufficient for the harbors and waters exposed, and the residue will require little time for their construction when it is deemed necessary.Under the act of the last session for raising an additional military force, so many officers were immediately appointed as were necessary for carrying on the business of recruiting, and in proportion as it advanced, others have been added. We have reason to believe their success has been satisfactory, although such returns have not yet been received as enable me to present to you a statement of the numbers engaged.I have not thought it necessary in the course of the last season to call for any general detachments of militia or volunteers under the law passed for that purpose. For the ensuing season, however, they will require to be in readiness should their services be wanted. Some small and special detachments have been necessary to maintain the laws of embargo on that portion of our northern frontier which offered peculiar facilities for evasion, but these were replaced as soon as it could be done by bodies of new recruits. By the aid of these, and of the armed vessels called into actual service in other quarters, the spirit of disobedience and abuse which manifested itself early, and with sensible effect while we were unprepared to meet it, has been considerably repressed.Considering the extraordinary character of the times in which we live, our attention should unremittingly be fixed on the safety of our country. For a people who are free, and who mean to remain so, a well-organized and armed militia is their best security. It is, therefore, incumbent on us, at every meeting, to revise the condition of the militia, and to ask ourselves if it is prepared to repel a powerful enemy at every point of our territories exposed to invasion. Some of the States have paid a laudable attention to this object; but every degree of neglect is to be found among others. Congress alone have power to produce a uniform state of preparation in this great organ of defence; the interests which they so deeply feel in their own and their country's security will present this as among the most important objects of their deliberation.Under the acts of March 11th and April 23d, respecting arms, the difficulty of procuring them from abroad, during the present situation and dispositions of Europe, induced us to direct our whole efforts to the means of internal supply. The public factories have, therefore, been enlarged, additional machineries erected, and in proportion as artificers can be found or formed, their effect, already more than doubled, may be increased so as to keep pace with the yearly increase of the militia. The annual sums appropriated by the latter act, have been directed to the encouragement of private factories of arms, and contracts have been entered into with individual undertakers to nearly the amount of the first year's appropriation.The suspension of our foreign commerce, produced by the injustice of the belligerent powers, and the consequent losses and sacrifices of our citizens, are subjects of just concern. The situation into which we have thus been forced, has impelled us to apply a portion of our industry and capital to internal manufactures and improvements. The extent of this conversion is daily increasing, and little doubt remains that the establishments formed and forming will -- under the auspices of cheaper materials and subsistence, the freedom of labor from taxation with us, and of protecting duties and prohibitions -- become permanent. The commerce with the Indians, too, within our own boundaries, is likely to receive abundant aliment from the same internal source, and will secure to them peace and the progress of civilization, undisturbed by practices hostile to both.The accounts of the receipts and expenditures during the year ending on the 30th day of September last, being not yet made up, a correct statement will hereafter be transmitted from the Treasury. In the meantime, it is ascertained that the receipts have amounted to near eighteen millions of dollars, which, with the eight millions and a half in the treasury at the beginning of the year, have enabled us, after meeting the current demands and interest incurred, to pay two millions three hundred thousand dollars of the principal of our funded debt, and left us in the treasury, on that day, near fourteen millions of dollars. Of these, five millions three hundred and fifty thousand dollars will be necessary to pay what will be due on the first day of January next, which will complete the reimbursement of the eight per cent. stock. These payments, with those made in the six years and a half preceding, will have extinguished thirty-three millions five hundred and eighty thousand dollars of the principal of the funded debt, being the whole which could be paid or purchased within the limits of the law and our contracts; and the amount of principal thus discharged will have liberated the revenue from about two millions of dollars of interest, and added that sum annually to the disposable surplus. The probable accumulation of the surpluses of revenue beyond what can be applied to the payment of the public debt, whenever the freedom and safety of our commerce shall be restored, merits the consideration of Congress. Shall it lie unproductive in the public vaults? Shall the revenue be reduced? Or shall it rather be appropriated to the improvements of roads, canals, rivers, education, and other great foundations of prosperity and union, under the powers which Congress may already possess, or such amendment of the constitution as may be approved by the States? While uncertain of the course of things, the time may be advantageously employed in obtaining the powers necessary for a system of improvement, should that be thought best.Availing myself of this the last occasion which will occur of addressing the two houses of the legislature at their meeting, I cannot omit the expression of my sincere gratitude for the repeated proofs of confidence manifested to me by themselves and their predecessors since my call to the administration, and the many indulgences experienced at their hands. The same grateful acknowledgments are due to my fellow citizens generally, whose support has been my great encouragement under all embarrassments. In the transaction of their business I cannot have escaped error. It is incident to our imperfect nature. But I may say with truth, my errors have been of the understanding, not of intention; and that the advancement of their rights and interests has been the constant motive for every measure. On these considerations I solicit their indulgence. Looking forward with anxiety to their future destinies, I trust that, in their steady character unshaken by difficulties, in their love of liberty, obedience to law, and support of the public authorities, I see a sure guaranty of the permanence of our republic; and retiring from the charge of their affairs, I carry with me the consolation of a firm persuasion that Heaven has in store for our beloved country long ages to come of prosperity and happiness.\""
   ]
  },
  {
   "cell_type": "code",
   "execution_count": 8,
   "id": "1293b699-d0c0-4e78-a169-2dabffc45ddc",
   "metadata": {},
   "outputs": [],
   "source": [
    "df['Transcript'].fillna(TJ_18081108_transcript, inplace=True)"
   ]
  },
  {
   "cell_type": "code",
   "execution_count": 9,
   "id": "f4bc2479-6156-455a-a47a-9657fb974096",
   "metadata": {},
   "outputs": [
    {
     "data": {
      "text/plain": [
       "Date          0\n",
       "President     0\n",
       "Party         0\n",
       "Transcript    0\n",
       "dtype: int64"
      ]
     },
     "execution_count": 9,
     "metadata": {},
     "output_type": "execute_result"
    }
   ],
   "source": [
    "df.isnull().sum()"
   ]
  },
  {
   "cell_type": "code",
   "execution_count": 10,
   "id": "515226d1-b6be-4672-951f-2ec79ec9815b",
   "metadata": {},
   "outputs": [],
   "source": [
    "df_wars = pd.DataFrame({\n",
    "    'War_Name': ['First Barbary Wars',\n",
    "                 'War of 1812',\n",
    "                 'Indian Wars',\n",
    "                 'Mexican-American War',\n",
    "                 'Spanish-American War', \n",
    "                 'Mexican Border Wars', \n",
    "                 'World War 1', \n",
    "                 'World War 2', \n",
    "                 'Korean War', \n",
    "                 'Vietnam War', \n",
    "                 'Persian Gulf War', \n",
    "                 'OEF', \n",
    "                 'OFS', \n",
    "                 'OES', \n",
    "                 'OIF', \n",
    "                 'OND', \n",
    "                 'OIR'\n",
    "                ],\n",
    "    'Start_Date': ['1801-05-01',\n",
    "                   '1812-06-18',\n",
    "                   '1817-01-01',\n",
    "                   '1846-04-25',\n",
    "                   '1898-04-21',\n",
    "                   '1916-05-09',\n",
    "                   '1917-04-06',\n",
    "                   '1941-12-07',\n",
    "                   '1950-06-25',\n",
    "                   '1964-08-05',\n",
    "                   '1990-08-02',\n",
    "                   '2001-10-07',\n",
    "                   '2015-01-01',\n",
    "                   '2021-10-01',\n",
    "                   '2003-03-17',\n",
    "                   '2010-11-01',\n",
    "                   '2014-10-15'\n",
    "                  ],\n",
    "    'End_Date': ['1805-06-10',\n",
    "                 '1815-02-18',\n",
    "                 '1898-12-31',\n",
    "                 '1848-02-02',\n",
    "                 '1903-07-15',\n",
    "                 '1917-04-05',\n",
    "                 '1918-11-11',\n",
    "                 '1946-12-31',\n",
    "                 '1955-01-31',\n",
    "                 '1975-05-07',\n",
    "                 '1991-04-06',\n",
    "                 '2014-12-28',\n",
    "                 '2021-08-31',\n",
    "                 '2024-02-20',\n",
    "                 '2010-08-31',\n",
    "                 '2011-12-15',\n",
    "                 '2024-02-20'\n",
    "                ],\n",
    "})\n",
    "\n",
    "df_wars['Start_Date'] = pd.to_datetime(df_wars['Start_Date'], format='%Y-%m-%d')\n",
    "df_wars['End_Date'] = pd.to_datetime(df_wars['End_Date'], format='%Y-%m-%d')"
   ]
  },
  {
   "cell_type": "code",
   "execution_count": 11,
   "id": "f126f343-4fc0-453d-bf6f-64d50b0be0d9",
   "metadata": {},
   "outputs": [],
   "source": [
    "# Filter speeches df for Date > 1814\n",
    "df = df[df['Date'] >= ('1798-01-01')].copy()"
   ]
  },
  {
   "cell_type": "code",
   "execution_count": 12,
   "id": "15184e19-96b1-4d65-8e23-97c1bc1d9981",
   "metadata": {},
   "outputs": [],
   "source": [
    "# Create a new column called \"War\" in df and initialize it with zeros\n",
    "df['War'] = 0\n",
    "\n",
    "# Iterate over each row in df\n",
    "for index, row in df.iterrows():\n",
    "    # Get the current date from the row\n",
    "    current_date = row['Date']\n",
    "    \n",
    "    # Check if the current date falls within 6 months before the start date of any war in df_wars\n",
    "    for _, war_row in df_wars.iterrows():\n",
    "        start_date = war_row['Start_Date']\n",
    "        \n",
    "        # Calculate 1yr before the start date of the war\n",
    "        six_months_before = start_date - pd.DateOffset(years=1)\n",
    "        \n",
    "        # If the current date falls 1 year before the start date of the war, set \"War\" column to 1\n",
    "        if current_date >= six_months_before and current_date <= start_date:\n",
    "            df.at[index, 'War'] = 1\n",
    "            break"
   ]
  },
  {
   "cell_type": "code",
   "execution_count": 14,
   "id": "61937f34-9193-41e4-be98-c2b010f117c6",
   "metadata": {},
   "outputs": [
    {
     "name": "stdout",
     "output_type": "stream",
     "text": [
      "<class 'pandas.core.frame.DataFrame'>\n",
      "Index: 968 entries, 24 to 991\n",
      "Data columns (total 5 columns):\n",
      " #   Column      Non-Null Count  Dtype         \n",
      "---  ------      --------------  -----         \n",
      " 0   Date        968 non-null    datetime64[ns]\n",
      " 1   President   968 non-null    object        \n",
      " 2   Party       968 non-null    object        \n",
      " 3   Transcript  968 non-null    object        \n",
      " 4   War         968 non-null    int64         \n",
      "dtypes: datetime64[ns](1), int64(1), object(3)\n",
      "memory usage: 77.7+ KB\n"
     ]
    }
   ],
   "source": [
    "df.info()"
   ]
  },
  {
   "cell_type": "markdown",
   "id": "1b1d14f3-8741-4d31-8394-0d0ca7f6a560",
   "metadata": {},
   "source": [
    "---"
   ]
  },
  {
   "cell_type": "code",
   "execution_count": 15,
   "id": "acfbbfe6-66fc-4a3a-b81c-823359801c1a",
   "metadata": {},
   "outputs": [],
   "source": [
    "# Calculate the length of each transcript\n",
    "#df['Text Length'] = df['Transcript'].apply(lambda x: len(x))"
   ]
  },
  {
   "cell_type": "markdown",
   "id": "489c5cac-6142-4366-96ee-164eb7cdcea8",
   "metadata": {},
   "source": [
    "---"
   ]
  },
  {
   "cell_type": "code",
   "execution_count": 13,
   "id": "c60204d2-1330-4431-9fd8-14ad72d979ef",
   "metadata": {},
   "outputs": [],
   "source": [
    "# # Additional words to remove\n",
    "# additional_stopwords = ['United', 'States', 'states', 'state', \n",
    "#                         'government', 'president', 'government', 'congress',\n",
    "#                         'people', 'united', 'us', 'american', 'country', 'would',\n",
    "#                        'one', 'may', 'made', 'make', 'every', 'upon', 'year', 'years',\n",
    "#                        'america', 'must', 'without', 'nation', 'last', 'time', 'nations',\n",
    "#                        'well', 'first', 'new', 'great', 'americans', 'mr', \n",
    "#                         'shall', 'many', 'think', 'rights', 'work', 'also']\n",
    "                        \n",
    "\n",
    "\n",
    "# # Combine NLTK stopwords with additional stopwords\n",
    "# stop_words = set(stopwords.words('english') + additional_stopwords)"
   ]
  },
  {
   "cell_type": "code",
   "execution_count": 15,
   "id": "5f40e67b-339c-4d84-89a5-3523e3e14a85",
   "metadata": {},
   "outputs": [],
   "source": [
    "# Clean transcript for President's name (when POTUS is author)\n",
    "def clean_transcript(row):\n",
    "    '''\n",
    "    Clean up the transcript by removing instances of the president's name, stop words, and punctuation.\n",
    "\n",
    "    Parameters\n",
    "    ----------\n",
    "    row : pandas.Series\n",
    "        A row from the DataFrame containing 'President' and 'Transcript' columns.\n",
    "\n",
    "    Returns\n",
    "    -------\n",
    "    str\n",
    "        The cleaned transcript with instances of the president's name and punctuation removed.\n",
    "\n",
    "    Notes\n",
    "    -----\n",
    "    This function iterates over each row in the DataFrame and removes the president's\n",
    "    name from the transcript text. It converts both the president's name and the transcript\n",
    "    text to lowercase to ensure case-insensitive matching.\n",
    "    '''\n",
    "    president = row['President'].lower()\n",
    "    transcript = str(row['Transcript'])\n",
    "\n",
    "    # Remove floating-point numbers and integers\n",
    "    transcript = re.sub(r'\\b\\d+(?:\\.\\d+)?\\s+', '', transcript)\n",
    "    \n",
    "    # Convert transcript to lowercase\n",
    "    transcript = transcript.lower()\n",
    "\n",
    "    # Remove president's name\n",
    "    transcript = transcript.replace(president, '').strip()\n",
    "\n",
    "    # Remove punctuation using regular expressions\n",
    "    transcript = re.sub(r'[^\\w\\s]', '', transcript)\n",
    "\n",
    "    # Tokenize transcript\n",
    "    tokens = word_tokenize(transcript)\n",
    "\n",
    "    # Remove stop words\n",
    "    #cleaned_tokens = [word for word in tokens if word not in stop_words]\n",
    "\n",
    "    # Join tokens back into a string\n",
    "    cleaned_transcript = ' '.join(tokens)\n",
    "\n",
    "    return cleaned_transcript\n",
    "    \n",
    "# Apply the cleaning function to each row\n",
    "df['Transcript'] = df.apply(clean_transcript, axis=1)"
   ]
  },
  {
   "cell_type": "code",
   "execution_count": 16,
   "id": "9ed53fbf-89ae-407f-a41d-118859fb2136",
   "metadata": {},
   "outputs": [
    {
     "data": {
      "text/html": [
       "<div>\n",
       "<style scoped>\n",
       "    .dataframe tbody tr th:only-of-type {\n",
       "        vertical-align: middle;\n",
       "    }\n",
       "\n",
       "    .dataframe tbody tr th {\n",
       "        vertical-align: top;\n",
       "    }\n",
       "\n",
       "    .dataframe thead th {\n",
       "        text-align: right;\n",
       "    }\n",
       "</style>\n",
       "<table border=\"1\" class=\"dataframe\">\n",
       "  <thead>\n",
       "    <tr style=\"text-align: right;\">\n",
       "      <th></th>\n",
       "      <th>Date</th>\n",
       "      <th>President</th>\n",
       "      <th>Party</th>\n",
       "      <th>Transcript</th>\n",
       "      <th>War</th>\n",
       "    </tr>\n",
       "  </thead>\n",
       "  <tbody>\n",
       "    <tr>\n",
       "      <th>24</th>\n",
       "      <td>1798-03-23</td>\n",
       "      <td>John Adams</td>\n",
       "      <td>Federalist</td>\n",
       "      <td>as the safety and prosperity of nations ultima...</td>\n",
       "      <td>0</td>\n",
       "    </tr>\n",
       "    <tr>\n",
       "      <th>25</th>\n",
       "      <td>1798-12-08</td>\n",
       "      <td>John Adams</td>\n",
       "      <td>Federalist</td>\n",
       "      <td>gentlemen of the senate and gentlemen of the h...</td>\n",
       "      <td>0</td>\n",
       "    </tr>\n",
       "  </tbody>\n",
       "</table>\n",
       "</div>"
      ],
      "text/plain": [
       "         Date   President       Party  \\\n",
       "24 1798-03-23  John Adams  Federalist   \n",
       "25 1798-12-08  John Adams  Federalist   \n",
       "\n",
       "                                           Transcript  War  \n",
       "24  as the safety and prosperity of nations ultima...    0  \n",
       "25  gentlemen of the senate and gentlemen of the h...    0  "
      ]
     },
     "execution_count": 16,
     "metadata": {},
     "output_type": "execute_result"
    }
   ],
   "source": [
    "df.head(2)"
   ]
  },
  {
   "cell_type": "code",
   "execution_count": 17,
   "id": "804f9b46-198a-497c-bd8c-b7e4dafcc68c",
   "metadata": {},
   "outputs": [],
   "source": [
    "# Save to new csv for later use\n",
    "df.to_csv('Speeches_War_Clean.csv', index=False)"
   ]
  },
  {
   "cell_type": "code",
   "execution_count": null,
   "id": "6fb52dbd-5d8d-4388-a4a2-5376efcf4c69",
   "metadata": {},
   "outputs": [],
   "source": []
  }
 ],
 "metadata": {
  "kernelspec": {
   "display_name": "Python 3 (ipykernel)",
   "language": "python",
   "name": "python3"
  },
  "language_info": {
   "codemirror_mode": {
    "name": "ipython",
    "version": 3
   },
   "file_extension": ".py",
   "mimetype": "text/x-python",
   "name": "python",
   "nbconvert_exporter": "python",
   "pygments_lexer": "ipython3",
   "version": "3.11.0"
  }
 },
 "nbformat": 4,
 "nbformat_minor": 5
}

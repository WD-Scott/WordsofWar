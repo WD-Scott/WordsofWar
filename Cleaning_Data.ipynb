{
 "cells": [
  {
   "cell_type": "code",
   "execution_count": 1,
   "id": "f252874f-5722-4985-9f3a-aec9adec011b",
   "metadata": {},
   "outputs": [],
   "source": [
    "import pandas as pd\n",
    "import numpy as np\n",
    "import os\n",
    "os.chdir('/Users/wyattscott/Documents/DS6050/Project')"
   ]
  },
  {
   "cell_type": "code",
   "execution_count": 2,
   "id": "876db210-05d1-4b7f-8e38-60f4b76a1906",
   "metadata": {},
   "outputs": [],
   "source": [
    "df = pd.read_csv(\"presidential_speeches.csv\", usecols=['Date', 'President', 'Party', 'Transcript'])"
   ]
  },
  {
   "cell_type": "code",
   "execution_count": 3,
   "id": "9d677a07-fbfa-467a-8b8c-32e799556a58",
   "metadata": {},
   "outputs": [],
   "source": [
    "df['Date'] = pd.to_datetime(df['Date'], format='%Y-%m-%d')"
   ]
  },
  {
   "cell_type": "code",
   "execution_count": 4,
   "id": "515226d1-b6be-4672-951f-2ec79ec9815b",
   "metadata": {},
   "outputs": [],
   "source": [
    "df_wars = pd.DataFrame({\n",
    "    'War_Name': ['Indian Wars', \n",
    "                 'Spanish-American War', \n",
    "                 'Mexican Border Wars', \n",
    "                 'World War 1', \n",
    "                 'World War 2', \n",
    "                 'Korean War', \n",
    "                 'Vietnam War', \n",
    "                 'Persian Gulf War', \n",
    "                 'OEF', \n",
    "                 'OFS', \n",
    "                 'OES', \n",
    "                 'OIF', \n",
    "                 'OND', \n",
    "                 'OIR'\n",
    "                ],\n",
    "    'Start_Date': ['1817-01-01',\n",
    "                   '1898-04-21',\n",
    "                   '1916-05-09',\n",
    "                   '1917-04-06',\n",
    "                   '1941-12-07',\n",
    "                   '1950-06-25',\n",
    "                   '1964-08-05',\n",
    "                   '1990-08-02',\n",
    "                   '2001-10-07',\n",
    "                   '2015-01-01',\n",
    "                   '2021-10-01',\n",
    "                   '2003-03-17',\n",
    "                   '2010-11-01',\n",
    "                   '2014-10-15'\n",
    "                  ],\n",
    "    'End_Date': ['1898-12-31',\n",
    "                 '1903-07-15',\n",
    "                 '1917-04-05',\n",
    "                 '1918-11-11',\n",
    "                 '1946-12-31',\n",
    "                 '1955-01-31',\n",
    "                 '1975-05-07',\n",
    "                 '1991-04-06',\n",
    "                 '2014-12-28',\n",
    "                 '2021-08-31',\n",
    "                 '2024-02-20',\n",
    "                 '2010-08-31',\n",
    "                 '2011-12-15',\n",
    "                 '2024-02-20'\n",
    "                ],\n",
    "})\n",
    "\n",
    "df_wars['Start_Date'] = pd.to_datetime(df_wars['Start_Date'], format='%Y-%m-%d')\n",
    "df_wars['End_Date'] = pd.to_datetime(df_wars['End_Date'], format='%Y-%m-%d')"
   ]
  },
  {
   "cell_type": "code",
   "execution_count": 5,
   "id": "f126f343-4fc0-453d-bf6f-64d50b0be0d9",
   "metadata": {},
   "outputs": [],
   "source": [
    "# Filter speeches df for Date > 1814\n",
    "df = df[df['Date'] >= ('1815-01-01')].copy()"
   ]
  },
  {
   "cell_type": "code",
   "execution_count": 6,
   "id": "15184e19-96b1-4d65-8e23-97c1bc1d9981",
   "metadata": {},
   "outputs": [],
   "source": [
    "# Create a new column called \"War\" in df and initialize it with zeros\n",
    "df['War'] = 0\n",
    "\n",
    "# Iterate over each row in df\n",
    "for index, row in df.iterrows():\n",
    "    # Get the current date from the row\n",
    "    current_date = row['Date']\n",
    "    \n",
    "    # Check if the current date falls within 6 months before the start date of any war in df_wars\n",
    "    for _, war_row in df_wars.iterrows():\n",
    "        start_date = war_row['Start_Date']\n",
    "        \n",
    "        # Calculate 1yr before the start date of the war\n",
    "        six_months_before = start_date - pd.DateOffset(years=1)\n",
    "        \n",
    "        # If the current date falls 6 months before the start date of the war, set \"War\" column to 1\n",
    "        if current_date >= six_months_before and current_date <= start_date:\n",
    "            df.at[index, 'War'] = 1\n",
    "            break"
   ]
  },
  {
   "cell_type": "code",
   "execution_count": 7,
   "id": "60f63912-c32d-422d-9e36-cdb0bff09086",
   "metadata": {},
   "outputs": [
    {
     "data": {
      "text/html": [
       "<div>\n",
       "<style scoped>\n",
       "    .dataframe tbody tr th:only-of-type {\n",
       "        vertical-align: middle;\n",
       "    }\n",
       "\n",
       "    .dataframe tbody tr th {\n",
       "        vertical-align: top;\n",
       "    }\n",
       "\n",
       "    .dataframe thead th {\n",
       "        text-align: right;\n",
       "    }\n",
       "</style>\n",
       "<table border=\"1\" class=\"dataframe\">\n",
       "  <thead>\n",
       "    <tr style=\"text-align: right;\">\n",
       "      <th></th>\n",
       "      <th>Date</th>\n",
       "      <th>President</th>\n",
       "      <th>Party</th>\n",
       "      <th>Transcript</th>\n",
       "      <th>War</th>\n",
       "    </tr>\n",
       "  </thead>\n",
       "  <tbody>\n",
       "    <tr>\n",
       "      <th>71</th>\n",
       "      <td>1815-01-30</td>\n",
       "      <td>James Madison</td>\n",
       "      <td>Democratic-Republican</td>\n",
       "      <td>To the Senate of the United States: Having bes...</td>\n",
       "      <td>0</td>\n",
       "    </tr>\n",
       "    <tr>\n",
       "      <th>72</th>\n",
       "      <td>1815-02-18</td>\n",
       "      <td>James Madison</td>\n",
       "      <td>Democratic-Republican</td>\n",
       "      <td>To the Senate and House of Representatives of ...</td>\n",
       "      <td>0</td>\n",
       "    </tr>\n",
       "    <tr>\n",
       "      <th>73</th>\n",
       "      <td>1815-12-05</td>\n",
       "      <td>James Madison</td>\n",
       "      <td>Democratic-Republican</td>\n",
       "      <td>Fellow Citizens of the Senate and of the House...</td>\n",
       "      <td>0</td>\n",
       "    </tr>\n",
       "    <tr>\n",
       "      <th>74</th>\n",
       "      <td>1816-12-03</td>\n",
       "      <td>James Madison</td>\n",
       "      <td>Democratic-Republican</td>\n",
       "      <td>Fellow Citizens of the Senate and of the House...</td>\n",
       "      <td>1</td>\n",
       "    </tr>\n",
       "    <tr>\n",
       "      <th>75</th>\n",
       "      <td>1817-03-03</td>\n",
       "      <td>James Madison</td>\n",
       "      <td>Democratic-Republican</td>\n",
       "      <td>To the House of Representatives of the United ...</td>\n",
       "      <td>0</td>\n",
       "    </tr>\n",
       "  </tbody>\n",
       "</table>\n",
       "</div>"
      ],
      "text/plain": [
       "         Date      President                  Party  \\\n",
       "71 1815-01-30  James Madison  Democratic-Republican   \n",
       "72 1815-02-18  James Madison  Democratic-Republican   \n",
       "73 1815-12-05  James Madison  Democratic-Republican   \n",
       "74 1816-12-03  James Madison  Democratic-Republican   \n",
       "75 1817-03-03  James Madison  Democratic-Republican   \n",
       "\n",
       "                                           Transcript  War  \n",
       "71  To the Senate of the United States: Having bes...    0  \n",
       "72  To the Senate and House of Representatives of ...    0  \n",
       "73  Fellow Citizens of the Senate and of the House...    0  \n",
       "74  Fellow Citizens of the Senate and of the House...    1  \n",
       "75  To the House of Representatives of the United ...    0  "
      ]
     },
     "execution_count": 7,
     "metadata": {},
     "output_type": "execute_result"
    }
   ],
   "source": [
    "df.head()"
   ]
  },
  {
   "cell_type": "code",
   "execution_count": 8,
   "id": "e3884d8c-0ac0-401d-91fa-42afbb3e0ecd",
   "metadata": {},
   "outputs": [
    {
     "data": {
      "text/plain": [
       "Date          0\n",
       "President     0\n",
       "Party         0\n",
       "Transcript    0\n",
       "War           0\n",
       "dtype: int64"
      ]
     },
     "execution_count": 8,
     "metadata": {},
     "output_type": "execute_result"
    }
   ],
   "source": [
    "df.isnull().sum()"
   ]
  },
  {
   "cell_type": "code",
   "execution_count": 9,
   "id": "11a14970-b047-40a1-b995-9359c8feae93",
   "metadata": {},
   "outputs": [],
   "source": [
    "df = df.dropna(axis=0).reset_index(drop=True)"
   ]
  },
  {
   "cell_type": "code",
   "execution_count": 10,
   "id": "804f9b46-198a-497c-bd8c-b7e4dafcc68c",
   "metadata": {},
   "outputs": [],
   "source": [
    "# Save to new csv for later use\n",
    "df.to_csv('Speeches_War_Clean.csv', index=False)"
   ]
  }
 ],
 "metadata": {
  "kernelspec": {
   "display_name": "Python 3 (ipykernel)",
   "language": "python",
   "name": "python3"
  },
  "language_info": {
   "codemirror_mode": {
    "name": "ipython",
    "version": 3
   },
   "file_extension": ".py",
   "mimetype": "text/x-python",
   "name": "python",
   "nbconvert_exporter": "python",
   "pygments_lexer": "ipython3",
   "version": "3.11.0"
  }
 },
 "nbformat": 4,
 "nbformat_minor": 5
}
